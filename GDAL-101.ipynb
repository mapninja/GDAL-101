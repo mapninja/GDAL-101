{
 "cells": [
  {
   "cell_type": "markdown",
   "metadata": {},
   "source": [
    "# GDAL 101\n",
    "\n",
    "<a target=\"_blank\" href=\"https://colab.research.google.com/github/mapninja/GDAL-101/blob/main/GDAL-101.ipynb\">\n",
    "  <img src=\"https://colab.research.google.com/assets/colab-badge.svg\" alt=\"Open In Colab\"/>\n",
    "</a>"
   ]
  },
  {
   "cell_type": "markdown",
   "metadata": {},
   "source": [
    "## Overview of steps:\n",
    "1. Verification: Verify GDAL installation.\n",
    "2. Download the data: Placeholder for data download.\n",
    "3. Check out the data in QGIS: Placeholder for QGIS.\n",
    "4. OGR for Vector Data: Use GDAL to inspect vector data.\n",
    "5. GDAL for Raster Data: Use GDAL to inspect raster data.\n",
    "6. Converting Data: Convert data formats using GDAL.\n",
    "7. Reprojecting Data: Reproject data using GDAL.\n",
    "8. Querying Data: Query data using SQL with GDAL.\n",
    "9. Clipping to create new data: Clip data using GDAL.\n",
    "10. Previewing Data: Use Folium to preview data."
   ]
  },
  {
   "cell_type": "markdown",
   "metadata": {},
   "source": [
    "## Installation\n",
    "\n",
    "This workshop assumes that you are using Colab, or have already installed GDAL in your local Conda Environment. \n",
    "Install necessary packages"
   ]
  },
  {
   "cell_type": "markdown",
   "metadata": {},
   "source": [
    "### For Colab, use this install block\n",
    "\n",
    "If you are using Colab, use this code block to install the required software on the Kernel you are using. "
   ]
  },
  {
   "cell_type": "code",
   "execution_count": 122,
   "metadata": {},
   "outputs": [],
   "source": [
    "%%capture\n",
    "if 'google.colab' in str(get_ipython()):  # Check if the code is running in Google Colab\n",
    "  !apt-get install gdal-bin  # Install GDAL binaries\n",
    "  !pip install leafmap[raster]  # Install the leafmap package with raster support"
   ]
  },
  {
   "cell_type": "markdown",
   "metadata": {},
   "source": [
    "### For all users \n",
    "\n",
    "Use this block to make sure all required python packages are installed. "
   ]
  },
  {
   "cell_type": "code",
   "execution_count": null,
   "metadata": {},
   "outputs": [],
   "source": [
    "!pip install gdal folium leafmap matplotlib rasterio geopandas jupyter-server-proxy xarray localtileserver"
   ]
  },
  {
   "cell_type": "markdown",
   "metadata": {},
   "source": [
    "### Check your installation of GDAL"
   ]
  },
  {
   "cell_type": "code",
   "execution_count": null,
   "metadata": {},
   "outputs": [],
   "source": [
    "!gdalinfo --version  # This command checks the installed version of GDAL"
   ]
  },
  {
   "cell_type": "markdown",
   "metadata": {},
   "source": [
    "### Imports\n",
    "\n",
    "These are the necessary Python Libraries for this workshop."
   ]
  },
  {
   "cell_type": "code",
   "execution_count": 3,
   "metadata": {},
   "outputs": [],
   "source": [
    "# from osgeo import gdal, ogr  # Import the gdal and ogr modules from the osgeo package\n",
    "import zipfile  # Import the zipfile module for handling zip files\n",
    "import os  # Import the os module for interacting with the operating system\n",
    "import geopandas as gpd  # Import the geopandas module for working with geospatial data\n",
    "import leafmap  # Import the leafmap module for creating interactive maps with geospatial data\n",
    "import matplotlib.pyplot as plt  # Import the matplotlib.pyplot module for plotting\n",
    "import rasterio  # Import the rasterio module for working with raster data\n"
   ]
  },
  {
   "cell_type": "markdown",
   "metadata": {},
   "source": [
    "## Upload and Unzip the data in Colab\n",
    "\n",
    "This assumes you are working in [Colab](https://colab.research.google.com/). First, you will need to place the `GDAL_101_data.zip` file in the `./contents` folder on Colab. This is the folder that is visible by default, in your Files Panel, in Colab."
   ]
  },
  {
   "cell_type": "code",
   "execution_count": null,
   "metadata": {},
   "outputs": [],
   "source": [
    "import requests\n",
    "\n",
    "# URL of the dataset\n",
    "url = \"https://drive.usercontent.google.com/download?id=18c1L3nt3FTcvd2YLm5HwXzfiulAgs0en&export=download&authuser=0&confirm=t&uuid=b210a738-a88d-4278-ad6c-9ff8a9b205b6&at=AN_67v1XxwHdrXmMIItrqla7n7IG%3A1730219939009\"\n",
    "\n",
    "# Path where the dataset will be saved\n",
    "output_path = './GDAL_101_data.zip'\n",
    "\n",
    "# Download the dataset\n",
    "response = requests.get(url)\n",
    "with open(output_path, 'wb') as file:\n",
    "    file.write(response.content)\n",
    "\n",
    "print(f\"Dataset downloaded and saved to {output_path}\")"
   ]
  },
  {
   "cell_type": "code",
   "execution_count": null,
   "metadata": {},
   "outputs": [],
   "source": [
    "# Define the path to the zip file and the extraction directory (in Colab, right-click and select Copy Path to get this location)\n",
    "zip_file_path = './GDAL_101_data.zip'\n",
    "extract_to_path = './data'\n",
    "\n",
    "# Unzip the file\n",
    "with zipfile.ZipFile(zip_file_path, 'r') as zip_ref:\n",
    "    zip_ref.extractall(extract_to_path)\n",
    "\n",
    "print(f\"Data extracted to {os.path.abspath(extract_to_path)}\")"
   ]
  },
  {
   "cell_type": "markdown",
   "metadata": {},
   "source": [
    "## Check out the data in Leafmap"
   ]
  },
  {
   "cell_type": "markdown",
   "metadata": {},
   "source": [
    "### Use leafmap to visualize the zipcodes.shp (vector dataset)"
   ]
  },
  {
   "cell_type": "code",
   "execution_count": null,
   "metadata": {},
   "outputs": [],
   "source": [
    "# Load the shapefile using geopandas\n",
    "gdf = gpd.read_file(f\"{extract_to_path}/zipcodes/zipcodes.shp\")\n",
    "\n",
    "# Create a map centered around the data\n",
    "m = leafmap.Map(center=[gdf.geometry.centroid.y.mean(), gdf.geometry.centroid.x.mean()], zoom=9)\n",
    "\n",
    "# Add the shapefile layer to the map\n",
    "m.add_gdf(gdf, layer_name=\"Zipcodes\")\n",
    "\n",
    "# Display the map\n",
    "m\n"
   ]
  },
  {
   "cell_type": "markdown",
   "metadata": {},
   "source": [
    "### Use leafmap to visualize the doqq.tif (raster dataset)"
   ]
  },
  {
   "cell_type": "code",
   "execution_count": null,
   "metadata": {},
   "outputs": [],
   "source": [
    "# Create a map centered around the approximate location of the raster data\n",
    "doqq_map_center = [30.2672, -97.7431]  # Coordinates for Austin, TX\n",
    "doqq_map = leafmap.Map(center=doqq_map_center, zoom=10)\n",
    "\n",
    "# Define the path to the doqq.tif file\n",
    "doqq_tif_path = f\"{extract_to_path}/doqq.tif\"\n",
    "\n",
    "# Add the raster layer to the map\n",
    "doqq_map.add_raster(doqq_tif_path, layer_name=\"DOQQ\")\n",
    "\n",
    "# Display the map\n",
    "doqq_map"
   ]
  },
  {
   "cell_type": "markdown",
   "metadata": {},
   "source": [
    "## OGR for Vector Data\n",
    "\n",
    "The Geospatial Data Abstraction Library (GDAL) is a powerful open-source library for reading, writing, and manipulating geospatial data. One of the key utilities of GDAL is its ability to extract detailed metadata from various spatial datasets, including both vector and raster formats. This metadata provides essential information about the dataset, such as its coordinate system, extent, resolution, and attribute information.\n",
    "\n",
    "### Key Benefits of Using GDAL for Metadata Extraction\n",
    "\n",
    "1. **Comprehensive Metadata**: GDAL can extract a wide range of metadata, including spatial reference information, data type, dimensions, and more. This comprehensive metadata is crucial for understanding the characteristics and quality of the dataset.\n",
    "\n",
    "2. **Support for Multiple Formats**: GDAL supports a vast array of geospatial data formats, making it a versatile tool for metadata extraction across different types of datasets, such as shapefiles, GeoTIFFs, and more.\n",
    "\n",
    "3. **Command-Line and Programmatic Access**: GDAL provides both command-line utilities (e.g., `gdalinfo`, `ogrinfo`) and programmatic interfaces (e.g., Python bindings) for extracting metadata. This flexibility allows users to integrate metadata extraction into automated workflows and scripts.\n",
    "\n",
    "4. **Standardized Output**: The metadata extracted by GDAL is presented in a standardized format, making it easier to parse and utilize in subsequent data processing and analysis tasks.\n",
    "\n",
    "5. **Efficiency**: GDAL is optimized for performance, enabling efficient extraction of metadata even for large and complex datasets.\n",
    "\n",
    "### Common GDAL Commands for Metadata Extraction\n",
    "\n",
    "- **`gdalinfo`**: This command is used to extract metadata from raster datasets. It provides detailed information about the raster, including its size, coordinate system, geotransform, and more.\n",
    "- **`ogrinfo`**: This command is used to extract metadata from vector datasets. It provides information about the layers, attributes, and spatial reference of the vector data.\n",
    "\n",
    "By leveraging GDAL's capabilities for metadata extraction, users can gain valuable insights into their spatial datasets, facilitating better data management, analysis, and decision-making."
   ]
  },
  {
   "cell_type": "markdown",
   "metadata": {},
   "source": [
    "### Use `ogrinfo` to get information about your vector datasets"
   ]
  },
  {
   "cell_type": "code",
   "execution_count": null,
   "metadata": {},
   "outputs": [],
   "source": [
    "!ogrinfo ./data/pools/pools.shp                        # Display information about the shapefile 'pools.shp'"
   ]
  },
  {
   "cell_type": "markdown",
   "metadata": {},
   "source": [
    "### Explanation of the Output\n",
    "\n",
    "The output message provides information about the successful opening of a shapefile using the GDAL library. Let's break down the message:\n",
    "\n",
    "1. **INFO:** This indicates that the message is informational. It is not an error or a warning, but rather a confirmation that an operation has been successfully completed.\n",
    "\n",
    "2. **Open of `./data/pools/pools.shp'**: This part specifies the file path of the shapefile that has been opened. In this case, the shapefile is located at `./data/pools/pools.shp`.\n",
    "\n",
    "3. **using driver `ESRI Shapefile' successful.**: This indicates that the file was successfully opened using the `ESRI Shapefile` driver. GDAL supports various drivers for different geospatial data formats, and in this case, it used the driver specific to ESRI Shapefiles.\n",
    "\n",
    "4. **1: pools (3D Polygon)**: This part provides information about the contents of the shapefile. It indicates that the shapefile contains one layer named `pools`, and the geometries in this layer are 3D polygons.\n"
   ]
  },
  {
   "cell_type": "markdown",
   "metadata": {},
   "source": []
  },
  {
   "cell_type": "code",
   "execution_count": null,
   "metadata": {},
   "outputs": [],
   "source": [
    "!ogrinfo ./data/zipcodes/zipcodes.shp                  # Display information about the shapefile 'zipcodes.shp'"
   ]
  },
  {
   "cell_type": "markdown",
   "metadata": {},
   "source": [
    "Here's a brief explanation of the output:\n",
    "\n",
    "- `INFO: Open of './data/zipcodes/zipcodes.shp' using driver 'ESRI Shapefile' successful.`: This line indicates that GDAL successfully opened the shapefile located at \n",
    "\n",
    "`./data/zipcodes.shp`\n",
    "\n",
    " using the ESRI Shapefile driver.\n",
    "- `1: zipcodes (Polygon)`: This line indicates that the shapefile contains one layer named `zipcodes`, and the geometries in this layer are of type `Polygon`.\n",
    "\n"
   ]
  },
  {
   "cell_type": "markdown",
   "metadata": {},
   "source": [
    "### Use `ogrinfo` to get information about the layer in your zipcodes.shp vector dataset"
   ]
  },
  {
   "cell_type": "code",
   "execution_count": null,
   "metadata": {},
   "outputs": [],
   "source": [
    "!ogrinfo -so ./data/zipcodes/zipcodes.shp zipcodes     # Display summary information about the 'zipcodes' layer in the 'zipcodes.shp' shapefile"
   ]
  },
  {
   "cell_type": "markdown",
   "metadata": {
    "vscode": {
     "languageId": "markdown"
    }
   },
   "source": [
    "The output provides detailed information about the shapefile `zipcodes.shp` located in the `./data` directory. Here's a breakdown of the output:\n",
    "\n",
    "1. **Opening `zipcodes.shp`:**\n",
    "    ```\n",
    "    INFO: Open of `./data/zipcodes/zipcodes.shp' using driver `ESRI Shapefile' successful.\n",
    "    1: zipcodes (Polygon)\n",
    "    ```\n",
    "    - **INFO:** Indicates an informational message.\n",
    "    - **Open of `./data/zipcodes/zipcodes.shp'**: Specifies the file path of the shapefile that has been opened.\n",
    "    - **using driver `ESRI Shapefile' successful.**: Indicates that the file was successfully opened using the ESRI Shapefile driver.\n",
    "    - **1: zipcodes (Polygon)**: Indicates that the shapefile contains one layer named `zipcodes`, and the geometries in this layer are polygons.\n",
    "\n",
    "2. **Detailed Information about `zipcodes` Layer:**\n",
    "    ```\n",
    "    Layer name: zipcodes\n",
    "    Geometry: Polygon\n",
    "    Feature Count: 80\n",
    "    Extent: (-98.589809, 29.669673) - (-97.184067, 31.037805)\n",
    "    Layer SRS WKT:\n",
    "    GEOGCRS[\"WGS 84\",\n",
    "         DATUM[\"World Geodetic System 1984\",\n",
    "              ELLIPSOID[\"WGS 84\",6378137,298.257223563,\n",
    "                    LENGTHUNIT[\"metre\",1]]],\n",
    "         PRIMEM[\"Greenwich\",0,\n",
    "              ANGLEUNIT[\"degree\",0.0174532925199433]],\n",
    "         CS[ellipsoidal,2],\n",
    "              AXIS[\"latitude\",north,\n",
    "                    ORDER[1],\n",
    "                    ANGLEUNIT[\"degree\",0.0174532925199433]],\n",
    "              AXIS[\"longitude\",east,\n",
    "                    ORDER[2],\n",
    "                    ANGLEUNIT[\"degree\",0.0174532925199433]],\n",
    "         ID[\"EPSG\",4326]]\n",
    "    Data axis to CRS axis mapping: 2,1\n",
    "    ZIPCODE: String (12.0)\n",
    "    NAME: String (30.0)\n",
    "    CREATED_DA: Date\n",
    "    CREATED_BY: String (50.0)\n",
    "    MODIFIED_D: Date\n",
    "    MODIFIED_B: String (50.0)\n",
    "    SHAPE_AREA: Real (19.11)\n",
    "    SHAPE_LEN: Real (19.11)\n",
    "    ```\n",
    "    - **Layer name:** The name of the layer is `zipcodes`.\n",
    "    - **Geometry:** The geometries in this layer are polygons.\n",
    "    - **Feature Count:** There are 80 features in this layer.\n",
    "    - **Extent:** The spatial extent of the layer is from coordinates (-98.589809, 29.669673) to (-97.184067, 31.037805).\n",
    "    - **Layer SRS WKT:** The spatial reference system (SRS) is WGS 84, with EPSG code 4326.\n",
    "    - **Attributes:**\n",
    "      - **ZIPCODE:** String with a maximum length of 12 characters.\n",
    "      - **NAME:** String with a maximum length of 30 characters.\n",
    "      - **CREATED_DA:** Date field.\n",
    "      - **CREATED_BY:** String with a maximum length of 50 characters.\n",
    "      - **MODIFIED_D:** Date field.\n",
    "      - **MODIFIED_B:** String with a maximum length of 50 characters.\n",
    "      - **SHAPE_AREA:** Real number with precision 19.11.\n",
    "      - **SHAPE_LEN:** Real number with precision 19.11.\n"
   ]
  },
  {
   "cell_type": "markdown",
   "metadata": {},
   "source": [
    "## GDAL for Raster Data\n",
    "\n",
    "## Utility of Using GDAL for Working with Raster Data\n",
    "\n",
    "GDAL provides a suite of utilities and libraries that facilitate the manipulation, transformation, and analysis of raster datasets. Here are some key benefits and utilities of using GDAL for raster data:\n",
    "\n",
    "### Key Benefits\n",
    "\n",
    "1. **Support for Multiple Formats**: GDAL supports a wide range of raster formats, including GeoTIFF, JPEG, PNG, and more. This versatility allows users to work with various data sources seamlessly.\n",
    "\n",
    "2. **Efficient Data Processing**: GDAL is optimized for performance, enabling efficient processing of large raster datasets. This is crucial for handling high-resolution satellite imagery and other extensive geospatial data.\n",
    "\n",
    "3. **Comprehensive Metadata Extraction**: GDAL can extract detailed metadata from raster datasets, such as coordinate systems, resolution, and extent. This information is vital for understanding the characteristics and quality of the data.\n",
    "\n",
    "4. **Reprojection and Transformation**: GDAL provides tools for reprojecting and transforming raster data to different coordinate systems. This is essential for integrating datasets from various sources with different spatial references.\n",
    "\n",
    "5. **Data Conversion**: GDAL allows for the conversion of raster data between different formats. This is useful for preparing data for specific applications or software that require particular formats.\n",
    "\n",
    "6. **Clipping and Subsetting**: GDAL can clip and subset raster data based on specified boundaries or windows. This functionality is useful for focusing analysis on specific areas of interest.\n",
    "\n",
    "7. **Raster Calculations**: GDAL supports various raster calculations, such as generating hillshades, slope maps, and color reliefs. These derived products are valuable for visualizing and analyzing terrain and other raster data.\n",
    "\n",
    "### Common GDAL Utilities for Raster Data\n",
    "\n",
    "- **`gdalinfo`**: Extracts metadata from raster datasets, providing detailed information about the file.\n",
    "- **`gdal_translate`**: Converts raster data between different formats and performs subsetting and resampling.\n",
    "- **`gdalwarp`**: Reprojects and transforms raster data to different coordinate systems.\n",
    "- **`gdaldem`**: Generates derived products such as hillshades, slope maps, and color reliefs from Digital Elevation Models (DEMs).\n",
    "- **`gdal_contour`**: Creates contour lines from raster elevation data.\n",
    "\n",
    "By leveraging GDAL's powerful capabilities, users can efficiently manage, analyze, and visualize raster data, making it an indispensable tool in the geospatial domain."
   ]
  },
  {
   "cell_type": "markdown",
   "metadata": {},
   "source": [
    "### Use `gdalinfo` to get information about the dem10m.dem raster dataset"
   ]
  },
  {
   "cell_type": "code",
   "execution_count": null,
   "metadata": {},
   "outputs": [],
   "source": [
    "# Use the gdalinfo command to get information about the DEM (Digital Elevation Model) file\n",
    "# The DEM file is located in the 'dem10m' directory within the 'data' directory\n",
    "!gdalinfo ./data/dem10m/dem10m.dem\n"
   ]
  },
  {
   "cell_type": "markdown",
   "metadata": {},
   "source": [
    "### Explanation of `gdalinfo` Output for `dem10m.dem` Raster Dataset\n",
    "\n",
    "The output of the `gdalinfo` command provides detailed metadata about the `dem10m.dem` raster dataset. Here's a breakdown of the key components:\n",
    "\n",
    "1. **Driver**:\n",
    "    ```\n",
    "    Driver: USGSDEM/USGS Optional ASCII DEM (and CDED)\n",
    "    ```\n",
    "    - The driver used to read the file is `USGSDEM`, which supports USGS Optional ASCII DEM and CDED formats.\n",
    "\n",
    "2. **Files**:\n",
    "    ```\n",
    "    Files: ./data/dem10m/dem10m.dem\n",
    "             ./data/dem10m/dem10m.dem.aux.xml\n",
    "    ```\n",
    "    - The primary file is `dem10m.dem`.\n",
    "    - An auxiliary XML file `dem10m.dem.aux.xml` is also present, which may contain additional metadata.\n",
    "\n",
    "3. **Size**:\n",
    "    ```\n",
    "    Size is 3600, 3600\n",
    "    ```\n",
    "    - The raster size is 3600 pixels by 3600 pixels.\n",
    "\n",
    "4. **Coordinate System**:\n",
    "    ```\n",
    "    Coordinate System is:\n",
    "    GEOGCRS[\"NAD83\",\n",
    "         DATUM[\"North American Datum 1983\",\n",
    "              ELLIPSOID[\"GRS 1980\",6378137,298.257222101,\n",
    "                    LENGTHUNIT[\"metre\",1]]],\n",
    "         PRIMEM[\"Greenwich\",0,\n",
    "              ANGLEUNIT[\"degree\",0.0174532925199433]],\n",
    "         CS[ellipsoidal,2],\n",
    "              AXIS[\"geodetic latitude (Lat)\",north,\n",
    "                    ORDER[1],\n",
    "                    ANGLEUNIT[\"degree\",0.0174532925199433]],\n",
    "              AXIS[\"geodetic longitude (Lon)\",east,\n",
    "                    ORDER[2],\n",
    "                    ANGLEUNIT[\"degree\",0.0174532925199433]],\n",
    "         ID[\"EPSG\",4269]]\n",
    "    Data axis to CRS axis mapping: 2,1\n",
    "    ```\n",
    "    - The coordinate system is NAD83 (EPSG:4269), which uses the North American Datum 1983.\n",
    "\n",
    "5. **Origin and Pixel Size**:\n",
    "    ```\n",
    "    Origin = (-97.999999407110110,31.000000503864648)\n",
    "    Pixel Size = (0.000277777777778,-0.000277777777778)\n",
    "    ```\n",
    "    - The origin (upper-left corner) of the raster is at coordinates (-97.9999994, 31.0000005).\n",
    "    - Each pixel represents approximately 0.00027778 degrees.\n",
    "\n",
    "6. **Metadata**:\n",
    "    ```\n",
    "    Metadata:\n",
    "      AREA_OR_POINT=Point\n",
    "    ```\n",
    "    - The metadata indicates that the data represents points.\n",
    "\n",
    "7. **Corner Coordinates**:\n",
    "    ```\n",
    "    Corner Coordinates:\n",
    "    Upper Left  ( -97.9999994,  31.0000005) ( 98d 0' 0.00\"W, 31d 0' 0.00\"N)\n",
    "    Lower Left  ( -97.9999994,  30.0000005) ( 98d 0' 0.00\"W, 30d 0' 0.00\"N)\n",
    "    Upper Right ( -96.9999994,  31.0000005) ( 97d 0' 0.00\"W, 31d 0' 0.00\"N)\n",
    "    Lower Right ( -96.9999994,  30.0000005) ( 97d 0' 0.00\"W, 30d 0' 0.00\"N)\n",
    "    Center      ( -97.4999994,  30.5000005) ( 97d30' 0.00\"W, 30d30' 0.00\"N)\n",
    "    ```\n",
    "    - The coordinates of the four corners and the center of the raster are provided in both decimal degrees and degrees, minutes, seconds format.\n",
    "\n",
    "8. **Band Information**:\n",
    "    ```\n",
    "    Band 1 Block=3600x3600 Type=Float32, ColorInterp=Undefined\n",
    "      Min=79.900 Max=398.900 \n",
    "      Minimum=79.900, Maximum=398.900, Mean=193.121, StdDev=63.589\n",
    "      NoData Value=-32767\n",
    "      Unit Type: m\n",
    "      Metadata:\n",
    "         STATISTICS_MAXIMUM=398.89999389648\n",
    "         STATISTICS_MEAN=193.12105660542\n",
    "         STATISTICS_MINIMUM=79.900001525879\n",
    "         STATISTICS_STDDEV=63.588582941289\n",
    "    ```\n",
    "    - The raster has one band (Band 1) with a block size of 3600x3600 pixels.\n",
    "    - The data type is `Float32`.\n",
    "    - The minimum and maximum values in the band are 79.900 and 398.900, respectively.\n",
    "    - The mean value is 193.121, and the standard deviation is 63.589.\n",
    "    - The NoData value is -32767, indicating missing or undefined data.\n",
    "    - The unit type is meters (m).\n",
    "    - Additional statistics are provided in the metadata.\n",
    "```"
   ]
  },
  {
   "cell_type": "code",
   "execution_count": null,
   "metadata": {},
   "outputs": [],
   "source": [
    "# Use the gdalinfo command to get information about the raster file 'doqq.tif'\n",
    "# This command provides detailed metadata about the raster file, such as its size, coordinate system, and more\n",
    "!gdalinfo ./data/doqq.tif"
   ]
  },
  {
   "cell_type": "markdown",
   "metadata": {},
   "source": [
    "### Getting JSON formatted metadata\n",
    "\n",
    "\n",
    "### Why Getting Metadata Formatted as JSON from GDAL/OGR is Useful\n",
    "\n",
    "Obtaining metadata in JSON format from GDAL/OGR offers several advantages:\n",
    "\n",
    "1. **Structured Data**: JSON provides a structured format that is easy to parse and manipulate programmatically. This structure allows for straightforward extraction and utilization of specific metadata elements.\n",
    "\n",
    "2. **Interoperability**: JSON is a widely accepted data interchange format, making it compatible with various programming languages and tools. This interoperability facilitates seamless integration into diverse workflows and systems.\n",
    "\n",
    "3. **Readability**: JSON is human-readable, making it easier for developers and analysts to understand the metadata without requiring specialized knowledge of the data format.\n",
    "\n",
    "4. **Automation**: JSON's structured nature enables automated processing and analysis. Scripts and applications can easily parse JSON to extract relevant metadata, enabling automated workflows and data processing pipelines.\n",
    "\n",
    "5. **Flexibility**: JSON can represent complex nested structures, allowing for detailed and comprehensive metadata representation. This flexibility ensures that all relevant information about the dataset is captured and accessible.\n",
    "\n",
    "6. **Standardization**: Using JSON for metadata ensures a standardized format across different datasets and tools. This standardization simplifies data management and reduces the risk of errors or inconsistencies.\n",
    "\n",
    "By leveraging JSON for metadata extraction, users can enhance their data processing capabilities, improve interoperability, and streamline their workflows.\n"
   ]
  },
  {
   "cell_type": "code",
   "execution_count": null,
   "metadata": {},
   "outputs": [],
   "source": [
    "# Use the gdalinfo command to get information about the DEM file in JSON format\n",
    "# The DEM file is located in the 'dem10m' directory within the 'data' directory\n",
    "!gdalinfo -json ./data/dem10m/dem10m.dem"
   ]
  },
  {
   "cell_type": "markdown",
   "metadata": {
    "vscode": {
     "languageId": "markdown"
    }
   },
   "source": [
    "### Explanation of `gdalinfo` Output for `doqq.tif` Raster Dataset\n",
    "\n",
    "The output of the `gdalinfo` command provides detailed metadata about the `doqq.tif` raster dataset. Here's a breakdown of the key components:\n",
    "\n",
    "1. **Driver**:\n",
    "    ```\n",
    "    Driver: GTiff/GeoTIFF\n",
    "    ```\n",
    "    - The driver used to read the file is `GTiff`, which supports the GeoTIFF format.\n",
    "\n",
    "2. **Files**:\n",
    "    ```\n",
    "    Files: ./data/doqq.tif\n",
    "    ```\n",
    "    - The primary file is `doqq.tif`.\n",
    "\n",
    "3. **Size**:\n",
    "    ```\n",
    "    Size is 2394, 2344\n",
    "    ```\n",
    "    - The raster size is 2394 pixels by 2344 pixels.\n",
    "\n",
    "4. **Coordinate System**:\n",
    "    ```\n",
    "    Coordinate System is:\n",
    "    PROJCRS[\"NAD83 / UTM zone 14N\",\n",
    "        BASEGEOGCRS[\"NAD83\",\n",
    "            DATUM[\"North American Datum 1983\",\n",
    "                ELLIPSOID[\"GRS 1980\",6378137,298.257222101,\n",
    "                    LENGTHUNIT[\"metre\",1]]],\n",
    "            PRIMEM[\"Greenwich\",0,\n",
    "                ANGLEUNIT[\"degree\",0.0174532925199433]],\n",
    "            ID[\"EPSG\",4269]],\n",
    "        CONVERSION[\"UTM zone 14N\",\n",
    "            METHOD[\"Transverse Mercator\",\n",
    "                ID[\"EPSG\",9807]],\n",
    "            PARAMETER[\"Latitude of natural origin\",0,\n",
    "                ANGLEUNIT[\"degree\",0.0174532925199433],\n",
    "                ID[\"EPSG\",8801]],\n",
    "            PARAMETER[\"Longitude of natural origin\",-99,\n",
    "                ANGLEUNIT[\"degree\",0.0174532925199433],\n",
    "                ID[\"EPSG\",8802]],\n",
    "            PARAMETER[\"Scale factor at natural origin\",0.9996,\n",
    "                SCALEUNIT[\"unity\",1],\n",
    "                ID[\"EPSG\",8805]],\n",
    "            PARAMETER[\"False easting\",500000,\n",
    "                LENGTHUNIT[\"metre\",1],\n",
    "                ID[\"EPSG\",8806]],\n",
    "            PARAMETER[\"False northing\",0,\n",
    "                LENGTHUNIT[\"metre\",1],\n",
    "                ID[\"EPSG\",8807]]],\n",
    "        CS[Cartesian,2],\n",
    "            AXIS[\"(E)\",east,\n",
    "                ORDER[1],\n",
    "                LENGTHUNIT[\"metre\",1]],\n",
    "            AXIS[\"(N)\",north,\n",
    "                ORDER[2],\n",
    "                LENGTHUNIT[\"metre\",1]],\n",
    "        USAGE[\n",
    "            SCOPE[\"Engineering survey, topographic mapping.\"],\n",
    "            AREA[\"North America - between 102°W and 96°W - onshore and offshore. Canada - Manitoba; Nunavut; Saskatchewan. United States (USA) - Iowa; Kansas; Minnesota; Nebraska; North Dakota; Oklahoma; South Dakota; Texas.\"],\n",
    "            BBOX[25.83,-102,84,-96]],\n",
    "        ID[\"EPSG\",26914]]\n",
    "    Data axis to CRS axis mapping: 1,2\n",
    "    ```\n",
    "    - The coordinate system is NAD83 / UTM zone 14N (EPSG:26914), which uses the North American Datum 1983.\n",
    "\n",
    "5. **Origin and Pixel Size**:\n",
    "    ```\n",
    "    Origin = (621918.000000000000000,3356441.000000000000000)\n",
    "    Pixel Size = (0.500000000000000,-0.500000000000000)\n",
    "    ```\n",
    "    - The origin (upper-left corner) of the raster is at coordinates (621918, 3356441).\n",
    "    - Each pixel represents 0.5 meters.\n",
    "\n",
    "6. **Metadata**:\n",
    "    ```\n",
    "    Metadata:\n",
    "      AREA_OR_POINT=Area\n",
    "    ```\n",
    "    - The metadata indicates that the data represents an area.\n",
    "\n",
    "7. **Image Structure Metadata**:\n",
    "    ```\n",
    "    Image Structure Metadata:\n",
    "      INTERLEAVE=PIXEL\n",
    "    ```\n",
    "    - The image is interleaved by pixel.\n",
    "\n",
    "8. **Corner Coordinates**:\n",
    "    ```\n",
    "    Corner Coordinates:\n",
    "    Upper Left  (  621918.000, 3356441.000) ( 97d43'54.13\"W, 30d20' 1.21\"N)\n",
    "    Lower Left  (  621918.000, 3355269.000) ( 97d43'54.62\"W, 30d19'23.14\"N)\n",
    "    Upper Right (  623115.000, 3356441.000) ( 97d43' 9.31\"W, 30d20' 0.77\"N)\n",
    "    Lower Right (  623115.000, 3355269.000) ( 97d43' 9.80\"W, 30d19'22.70\"N)\n",
    "    Center      (  622516.500, 3355855.000) ( 97d43'31.97\"W, 30d19'41.96\"N)\n",
    "    ```\n",
    "    - The coordinates of the four corners and the center of the raster are provided in both UTM and degrees, minutes, seconds format.\n",
    "\n",
    "9. **Bands**:\n",
    "    ```\n",
    "    Band 1 Block=2394x1 Type=Byte, ColorInterp=Red\n",
    "      Mask Flags: PER_DATASET ALPHA \n",
    "    Band 2 Block=2394x1 Type=Byte, ColorInterp=Green\n",
    "      Mask Flags: PER_DATASET ALPHA \n",
    "    Band 3 Block=2394x1 Type=Byte, ColorInterp=Blue\n",
    "      Mask Flags: PER_DATASET ALPHA \n",
    "    Band 4 Block=2394x1 Type=Byte, ColorInterp=Alpha\n",
    "    ```\n",
    "    - The raster has four bands:\n",
    "        - Band 1: Red channel\n",
    "        - Band 2: Green channel\n",
    "        - Band 3: Blue channel\n",
    "        - Band 4: Alpha channel\n",
    "    - Each band is of type `Byte` and has a block size of 2394x1 pixels.\n",
    "    - The alpha mask is applied per dataset."
   ]
  },
  {
   "cell_type": "markdown",
   "metadata": {},
   "source": [
    "## Converting Data\n",
    "\n",
    "### Exporting original data into new formats\n",
    "\n",
    "GDAL (Geospatial Data Abstraction Library) and OGR (part of the GDAL library for vector data) are powerful tools for converting between various geospatial data formats. These tools support a wide range of formats, making it easy to transform data to meet the requirements of different applications and workflows.\n",
    "\n",
    "### Key Benefits of Using GDAL/OGR for Data Conversion\n",
    "\n",
    "1. **Support for Multiple Formats**: GDAL/OGR supports numerous raster and vector formats, including GeoTIFF, PNG, JPEG, Shapefile, GeoJSON, and more. This versatility allows users to work with various data sources seamlessly.\n",
    "\n",
    "2. **Efficient Data Processing**: GDAL/OGR is optimized for performance, enabling efficient conversion of large datasets. This is crucial for handling high-resolution imagery and extensive geospatial data.\n",
    "\n",
    "3. **Command-Line and Programmatic Access**: GDAL/OGR provides both command-line utilities (e.g., `gdal_translate`, `ogr2ogr`) and programmatic interfaces (e.g., Python bindings) for data conversion. This flexibility allows users to integrate data conversion into automated workflows and scripts.\n",
    "\n",
    "4. **Reprojection and Transformation**: GDAL/OGR can reproject and transform data to different coordinate systems during the conversion process. This is essential for integrating datasets from various sources with different spatial references.\n",
    "\n",
    "5. **Data Subsetting and Clipping**: GDAL/OGR allows for subsetting and clipping data based on specified boundaries or windows during conversion. This functionality is useful for focusing analysis on specific areas of interest.\n",
    "\n",
    "6. **Metadata Preservation**: GDAL/OGR ensures that essential metadata, such as coordinate systems and attribute information, is preserved during the conversion process. This is vital for maintaining the integrity and usability of the data.\n",
    "\n",
    "By leveraging GDAL/OGR's capabilities for data conversion, users can efficiently manage, transform, and integrate geospatial data, making it an indispensable tool in the geospatial domain."
   ]
  },
  {
   "cell_type": "markdown",
   "metadata": {},
   "source": [
    "### What formats does GDAL/OGR support?"
   ]
  },
  {
   "cell_type": "code",
   "execution_count": null,
   "metadata": {},
   "outputs": [],
   "source": [
    "# List available formats supported by OGR (used for vector data)\n",
    "!ogr2ogr --formats\n",
    "\n",
    "# List available formats supported by GDAL (used for raster data)\n",
    "!gdal_translate --formats"
   ]
  },
  {
   "cell_type": "markdown",
   "metadata": {},
   "source": [
    "### shapefile → geojson"
   ]
  },
  {
   "cell_type": "markdown",
   "metadata": {},
   "source": [
    "Vector data conversion is a fundamental process in Geographic Information Systems (GIS) that involves transforming spatial data from one format to another. Two common formats for vector data are Shapefile (SHP) and GeoJSON. Understanding the utility of converting between these formats is essential for effective data management and interoperability in GIS applications.\n",
    "\n",
    "### Data Conversion with OGR for Vector Data Formats\n",
    "\n",
    "#### Shapefile (SHP)\n",
    "Shapefile is a popular vector data format developed by Esri for geographic information system (GIS) software. It is widely used for storing geometric location and associated attribute information. A Shapefile is actually a collection of files with the same base name but different extensions, such as `.shp` (geometry), `.shx` (shape index), and `.dbf` (attribute data).\n",
    "\n",
    "#### GeoJSON\n",
    "GeoJSON is an open standard format designed for representing simple geographical features, along with their non-spatial attributes, using JavaScript Object Notation (JSON). GeoJSON supports various geometry types like Point, LineString, Polygon, and MultiPolygon, making it a versatile format for web-based mapping and data sharing.\n",
    "\n",
    "### Utility of Converting Shapefile to GeoJSON\n",
    "\n",
    "1. **Interoperability**: GeoJSON is widely supported by web mapping libraries such as Leaflet and Mapbox, making it easier to integrate spatial data into web applications. Converting Shapefiles to GeoJSON enhances the ability to share and visualize data across different platforms and technologies.\n",
    "\n",
    "2. **Simplicity and Readability**: GeoJSON is a text-based format that is human-readable and easy to understand. This simplicity makes it easier for developers to manipulate and debug spatial data compared to the binary format of Shapefiles.\n",
    "\n",
    "3. **Web Compatibility**: GeoJSON is inherently compatible with web technologies, allowing for seamless integration with APIs and web services. This makes it an ideal format for web-based GIS applications and interactive maps.\n",
    "\n",
    "4. **Data Size**: GeoJSON files are often smaller in size compared to Shapefiles because they do not require multiple accompanying files. This can be advantageous for data transfer and storage, especially in web applications where bandwidth and speed are critical.\n",
    "\n",
    "5. **Flexibility**: GeoJSON can be easily extended with additional properties and metadata, providing greater flexibility in how spatial data is represented and used.\n",
    "\n",
    "### Conclusion\n",
    "\n",
    "Converting Shapefiles to GeoJSON is a valuable process in the realm of GIS, offering numerous benefits in terms of interoperability, simplicity, web compatibility, data size, and flexibility. Understanding these advantages helps GIS professionals and developers make informed decisions about the best formats to use for their spatial data needs."
   ]
  },
  {
   "cell_type": "code",
   "execution_count": null,
   "metadata": {},
   "outputs": [],
   "source": [
    "# Convert the shapefile to GeoJSON format\n",
    "!ogr2ogr -f geojson ./out/zipcodes.geojson ./data/zipcodes/zipcodes.shp\n",
    "\n",
    "# Display summary information about the 'zipcodes' layer in the newly created GeoJSON file\n",
    "!ogrinfo -so ./out/zipcodes.geojson zipcodes"
   ]
  },
  {
   "cell_type": "markdown",
   "metadata": {},
   "source": [
    "### GeoTIFF → georeferenced PNG\n",
    "## Data Conversion with GDAL for Raster Data\n",
    "\n",
    "GDAL (Geospatial Data Abstraction Library) is a powerful open-source library for reading, writing, and manipulating raster and vector geospatial data. One of the key functionalities of GDAL is its ability to convert data between different formats, which is essential for various geospatial workflows and applications.\n",
    "\n",
    "### Understanding Raster Data Formats: GeoTIFF vs. PNG\n",
    "\n",
    "#### GeoTIFF\n",
    "GeoTIFF is a widely used raster data format that includes georeferencing information, allowing the data to be accurately placed in geographic space. It supports various types of data, including satellite imagery, digital elevation models (DEMs), and other geospatial datasets. Key features of GeoTIFF include:\n",
    "\n",
    "- **Georeferencing**: GeoTIFF files contain metadata that describes the spatial reference system, allowing the data to be accurately mapped to real-world coordinates.\n",
    "- **Multi-band Support**: GeoTIFF can store multiple bands of data, such as different spectral bands of satellite imagery.\n",
    "- **Data Precision**: GeoTIFF supports various data types, including integer and floating-point values, making it suitable for scientific and analytical purposes.\n",
    "\n",
    "#### PNG\n",
    "PNG (Portable Network Graphics) is a raster image format commonly used for web graphics and visualization. While it does not inherently support georeferencing, it can be used to display geospatial data when combined with external georeferencing information. Key features of PNG include:\n",
    "\n",
    "- **Visualization**: PNG is ideal for creating visual representations of geospatial data, such as maps and overlays, due to its support for transparency and lossless compression.\n",
    "- **Simplicity**: PNG files are easy to share and display on various platforms, making them suitable for web applications and presentations.\n",
    "- **Limited Geospatial Use**: Unlike GeoTIFF, PNG does not store georeferencing information within the file itself, which limits its use for precise spatial analysis. Instead, georeferencing information for PNG files is often stored in a separate \"sidecar\" file, such as a world file (.wld), which contains the necessary spatial reference data to align the image correctly in geographic space.\n",
    "\n",
    "### Data vs. Visualization\n",
    "\n",
    "- **Data (GeoTIFF)**: GeoTIFF is primarily used for storing and analyzing geospatial data. It retains the full precision and georeferencing information necessary for accurate spatial analysis and integration with other geospatial datasets.\n",
    "- **Visualization (PNG)**: PNG is used for visualizing geospatial data, providing a clear and visually appealing representation of the data. It is suitable for creating maps and graphics for presentations, reports, and web applications.\n",
    "\n",
    "### Conclusion\n",
    "\n",
    "Understanding the differences between GeoTIFF and PNG formats is crucial for effectively managing and utilizing raster data in geospatial workflows. While GeoTIFF is ideal for data storage and analysis, PNG excels in visualization and presentation. GDAL's ability to convert between these formats allows users to leverage the strengths of each format for their specific needs."
   ]
  },
  {
   "cell_type": "code",
   "execution_count": null,
   "metadata": {},
   "outputs": [],
   "source": [
    "# Convert the GeoTIFF file 'doqq.tif' to a PNG file format\n",
    "!gdal_translate -of png ./data/doqq.tif ./out/converted_doqq.png\n",
    "\n",
    "# Get information about the newly created PNG file\n",
    "!gdalinfo ./out/converted_doqq.png"
   ]
  },
  {
   "cell_type": "code",
   "execution_count": null,
   "metadata": {},
   "outputs": [],
   "source": [
    "# Create a map centered around the approximate location of the raster data\n",
    "map_center = [30.2672, -97.7431]  # Coordinates for Austin, TX\n",
    "m = leafmap.Map(center=map_center, zoom=10)\n",
    "\n",
    "# Define the path to the converted PNG file\n",
    "converted_doqq_path = './out/converted_doqq.png'\n",
    "\n",
    "# Add the raster layer to the map\n",
    "m.add_raster(converted_doqq_path, layer_name=\"Converted DOQQ\")\n",
    "\n",
    "# Display the map\n",
    "m"
   ]
  },
  {
   "cell_type": "markdown",
   "metadata": {},
   "source": [
    "## Reprojecting Data with GDAL/OGR\n",
    "\n",
    "### Reprojecting Data Using EPSG Codes\n",
    "\n",
    "Reprojecting data involves transforming spatial data from one coordinate reference system (CRS) to another. This process is essential in Geographic Information Systems (GIS) to ensure that datasets with different projections can be accurately overlaid and analyzed together. GDAL (Geospatial Data Abstraction Library) and OGR (part of the GDAL library for vector data) provide powerful tools for reprojecting both raster and vector data.\n",
    "\n",
    "### Why Projection is Necessary for Some Tasks\n",
    "\n",
    "1. **Data Integration**: Different datasets may come in various coordinate systems. Reprojecting them to a common CRS ensures that they align correctly on a map, allowing for accurate spatial analysis and visualization.\n",
    "\n",
    "2. **Accuracy**: Some projections are better suited for specific regions or types of analysis. For example, UTM (Universal Transverse Mercator) projections minimize distortion over small areas, making them ideal for detailed local studies.\n",
    "\n",
    "3. **Interoperability**: Many GIS applications and web mapping services require data to be in a specific projection. Reprojecting data ensures compatibility with these systems, facilitating data sharing and integration.\n",
    "\n",
    "4. **Analysis**: Certain spatial analyses, such as distance calculations and area measurements, require data to be in a projection that preserves these properties accurately. Reprojecting data to an appropriate CRS ensures the validity of such analyses.\n",
    "\n",
    "5. **Visualization**: Different projections can be used to emphasize specific aspects of the data. For example, conformal projections preserve shape, while equal-area projections preserve area, each serving different visualization needs.\n",
    "\n",
    "By leveraging GDAL/OGR's capabilities for reprojecting data, users can ensure that their spatial datasets are accurately aligned, compatible with various systems, and suitable for precise analysis and visualization."
   ]
  },
  {
   "cell_type": "code",
   "execution_count": 33,
   "metadata": {},
   "outputs": [
    {
     "name": "stdout",
     "output_type": "stream",
     "text": [
      "INFO: Open of `./data/pools/pools.shp'\n",
      "      using driver `ESRI Shapefile' successful.\n",
      "\n",
      "Layer name: pools\n",
      "Geometry: 3D Polygon\n",
      "Feature Count: 51073\n",
      "Extent: (2981531.595700, 9955614.300000) - (3231566.554300, 10197882.569300)\n",
      "Layer SRS WKT:\n",
      "PROJCRS[\"NAD83 / Texas Central (ftUS)\",\n",
      "    BASEGEOGCRS[\"NAD83\",\n",
      "        DATUM[\"North American Datum 1983\",\n",
      "            ELLIPSOID[\"GRS 1980\",6378137,298.257222101,\n",
      "                LENGTHUNIT[\"metre\",1]]],\n",
      "        PRIMEM[\"Greenwich\",0,\n",
      "            ANGLEUNIT[\"degree\",0.0174532925199433]],\n",
      "        ID[\"EPSG\",4269]],\n",
      "    CONVERSION[\"SPCS83 Texas Central zone (US survey foot)\",\n",
      "        METHOD[\"Lambert Conic Conformal (2SP)\",\n",
      "            ID[\"EPSG\",9802]],\n",
      "        PARAMETER[\"Latitude of false origin\",29.6666666666667,\n",
      "            ANGLEUNIT[\"degree\",0.0174532925199433],\n",
      "            ID[\"EPSG\",8821]],\n",
      "        PARAMETER[\"Longitude of false origin\",-100.333333333333,\n",
      "            ANGLEUNIT[\"degree\",0.0174532925199433],\n",
      "            ID[\"EPSG\",8822]],\n",
      "        PARAMETER[\"Latitude of 1st standard parallel\",31.8833333333333,\n",
      "            ANGLEUNIT[\"degree\",0.0174532925199433],\n",
      "            ID[\"EPSG\",8823]],\n",
      "        PARAMETER[\"Latitude of 2nd standard parallel\",30.1166666666667,\n",
      "            ANGLEUNIT[\"degree\",0.0174532925199433],\n",
      "            ID[\"EPSG\",8824]],\n",
      "        PARAMETER[\"Easting at false origin\",2296583.333,\n",
      "            LENGTHUNIT[\"US survey foot\",0.304800609601219],\n",
      "            ID[\"EPSG\",8826]],\n",
      "        PARAMETER[\"Northing at false origin\",9842500,\n",
      "            LENGTHUNIT[\"US survey foot\",0.304800609601219],\n",
      "            ID[\"EPSG\",8827]]],\n",
      "    CS[Cartesian,2],\n",
      "        AXIS[\"easting (X)\",east,\n",
      "            ORDER[1],\n",
      "            LENGTHUNIT[\"US survey foot\",0.304800609601219]],\n",
      "        AXIS[\"northing (Y)\",north,\n",
      "            ORDER[2],\n",
      "            LENGTHUNIT[\"US survey foot\",0.304800609601219]],\n",
      "    USAGE[\n",
      "        SCOPE[\"Engineering survey, topographic mapping.\"],\n",
      "        AREA[\"United States (USA) - Texas - counties of Anderson; Angelina; Bastrop; Bell; Blanco; Bosque; Brazos; Brown; Burleson; Burnet; Cherokee; Coke; Coleman; Comanche; Concho; Coryell; Crane; Crockett; Culberson; Ector; El Paso; Falls; Freestone; Gillespie; Glasscock; Grimes; Hamilton; Hardin; Houston; Hudspeth; Irion; Jasper; Jeff Davis; Kimble; Lampasas; Lee; Leon; Liberty; Limestone; Llano; Loving; Madison; Mason; McCulloch; McLennan; Menard; Midland; Milam; Mills; Montgomery; Nacogdoches; Newton; Orange; Pecos; Polk; Reagan; Reeves; Robertson; Runnels; Sabine; San Augustine; San Jacinto; San Saba; Schleicher; Shelby; Sterling; Sutton; Tom Green; Travis; Trinity; Tyler; Upton; Walker; Ward; Washington; Williamson; Winkler.\"],\n",
      "        BBOX[29.78,-106.66,32.27,-93.5]],\n",
      "    ID[\"EPSG\",2277]]\n",
      "Data axis to CRS axis mapping: 1,2\n",
      "POOLS_2013: Integer (9.0)\n",
      "CREATED_BY: String (254.0)\n",
      "CREATED_DA: Date\n",
      "MODIFIED_B: String (254.0)\n",
      "MODIFIED_D: Date\n",
      "SOURCE: String (254.0)\n",
      "FEATURE: String (254.0)\n",
      "ORIGIN_FEA: String (50.0)\n",
      "Shape_Leng: Real (19.11)\n",
      "Shape_Area: Real (19.11)\n"
     ]
    }
   ],
   "source": [
    "!ogrinfo -so -al ./data/pools/pools.shp  # Display summary information about all layers in the 'pools.shp' shapefile\n"
   ]
  },
  {
   "cell_type": "code",
   "execution_count": 34,
   "metadata": {},
   "outputs": [],
   "source": [
    "# Reproject the 'pools' shapefile to EPSG:4326 (WGS 84) coordinate system and save it as 'reprojected_pools.shp'\n",
    "!ogr2ogr -t_srs EPSG:4326 ./out/reprojected_pools.shp ./data/pools/pools.shp"
   ]
  },
  {
   "cell_type": "code",
   "execution_count": 35,
   "metadata": {},
   "outputs": [
    {
     "name": "stdout",
     "output_type": "stream",
     "text": [
      "INFO: Open of `./out/reprojected_pools.shp'\n",
      "      using driver `ESRI Shapefile' successful.\n",
      "\n",
      "Layer name: reprojected_pools\n",
      "Metadata:\n",
      "  DBF_DATE_LAST_UPDATE=2024-10-29\n",
      "Geometry: 3D Polygon\n",
      "Feature Count: 51073\n",
      "Extent: (-98.161582, 29.953331) - (-97.368493, 30.622059)\n",
      "Layer SRS WKT:\n",
      "GEOGCRS[\"WGS 84\",\n",
      "    DATUM[\"World Geodetic System 1984\",\n",
      "        ELLIPSOID[\"WGS 84\",6378137,298.257223563,\n",
      "            LENGTHUNIT[\"metre\",1]]],\n",
      "    PRIMEM[\"Greenwich\",0,\n",
      "        ANGLEUNIT[\"degree\",0.0174532925199433]],\n",
      "    CS[ellipsoidal,2],\n",
      "        AXIS[\"latitude\",north,\n",
      "            ORDER[1],\n",
      "            ANGLEUNIT[\"degree\",0.0174532925199433]],\n",
      "        AXIS[\"longitude\",east,\n",
      "            ORDER[2],\n",
      "            ANGLEUNIT[\"degree\",0.0174532925199433]],\n",
      "    ID[\"EPSG\",4326]]\n",
      "Data axis to CRS axis mapping: 2,1\n",
      "POOLS_2013: Integer (9.0)\n",
      "CREATED_BY: String (254.0)\n",
      "CREATED_DA: Date\n",
      "MODIFIED_B: String (254.0)\n",
      "MODIFIED_D: Date\n",
      "SOURCE: String (254.0)\n",
      "FEATURE: String (254.0)\n",
      "ORIGIN_FEA: String (50.0)\n",
      "Shape_Leng: Real (19.11)\n",
      "Shape_Area: Real (19.11)\n"
     ]
    }
   ],
   "source": [
    "!ogrinfo -so ./out/reprojected_pools.shp reprojected_pools # Display summary information about the 'reprojected_pools' layer"
   ]
  },
  {
   "cell_type": "code",
   "execution_count": 36,
   "metadata": {},
   "outputs": [
    {
     "name": "stdout",
     "output_type": "stream",
     "text": [
      "Driver: GTiff/GeoTIFF\n",
      "Files: ./data/doqq.tif\n",
      "Size is 2394, 2344\n",
      "Coordinate System is:\n",
      "PROJCRS[\"NAD83 / UTM zone 14N\",\n",
      "    BASEGEOGCRS[\"NAD83\",\n",
      "        DATUM[\"North American Datum 1983\",\n",
      "            ELLIPSOID[\"GRS 1980\",6378137,298.257222101,\n",
      "                LENGTHUNIT[\"metre\",1]]],\n",
      "        PRIMEM[\"Greenwich\",0,\n",
      "            ANGLEUNIT[\"degree\",0.0174532925199433]],\n",
      "        ID[\"EPSG\",4269]],\n",
      "    CONVERSION[\"UTM zone 14N\",\n",
      "        METHOD[\"Transverse Mercator\",\n",
      "            ID[\"EPSG\",9807]],\n",
      "        PARAMETER[\"Latitude of natural origin\",0,\n",
      "            ANGLEUNIT[\"degree\",0.0174532925199433],\n",
      "            ID[\"EPSG\",8801]],\n",
      "        PARAMETER[\"Longitude of natural origin\",-99,\n",
      "            ANGLEUNIT[\"degree\",0.0174532925199433],\n",
      "            ID[\"EPSG\",8802]],\n",
      "        PARAMETER[\"Scale factor at natural origin\",0.9996,\n",
      "            SCALEUNIT[\"unity\",1],\n",
      "            ID[\"EPSG\",8805]],\n",
      "        PARAMETER[\"False easting\",500000,\n",
      "            LENGTHUNIT[\"metre\",1],\n",
      "            ID[\"EPSG\",8806]],\n",
      "        PARAMETER[\"False northing\",0,\n",
      "            LENGTHUNIT[\"metre\",1],\n",
      "            ID[\"EPSG\",8807]]],\n",
      "    CS[Cartesian,2],\n",
      "        AXIS[\"(E)\",east,\n",
      "            ORDER[1],\n",
      "            LENGTHUNIT[\"metre\",1]],\n",
      "        AXIS[\"(N)\",north,\n",
      "            ORDER[2],\n",
      "            LENGTHUNIT[\"metre\",1]],\n",
      "    USAGE[\n",
      "        SCOPE[\"Engineering survey, topographic mapping.\"],\n",
      "        AREA[\"North America - between 102°W and 96°W - onshore and offshore. Canada - Manitoba; Nunavut; Saskatchewan. United States (USA) - Iowa; Kansas; Minnesota; Nebraska; North Dakota; Oklahoma; South Dakota; Texas.\"],\n",
      "        BBOX[25.83,-102,84,-96]],\n",
      "    ID[\"EPSG\",26914]]\n",
      "Data axis to CRS axis mapping: 1,2\n",
      "PROJ.4 string is:\n",
      "'+proj=utm +zone=14 +datum=NAD83 +units=m +no_defs'\n",
      "Origin = (621918.000000000000000,3356441.000000000000000)\n",
      "Pixel Size = (0.500000000000000,-0.500000000000000)\n",
      "Metadata:\n",
      "  AREA_OR_POINT=Area\n",
      "Image Structure Metadata:\n",
      "  INTERLEAVE=PIXEL\n",
      "Corner Coordinates:\n",
      "Upper Left  (  621918.000, 3356441.000) ( 97d43'54.13\"W, 30d20' 1.21\"N)\n",
      "Lower Left  (  621918.000, 3355269.000) ( 97d43'54.62\"W, 30d19'23.14\"N)\n",
      "Upper Right (  623115.000, 3356441.000) ( 97d43' 9.31\"W, 30d20' 0.77\"N)\n",
      "Lower Right (  623115.000, 3355269.000) ( 97d43' 9.80\"W, 30d19'22.70\"N)\n",
      "Center      (  622516.500, 3355855.000) ( 97d43'31.97\"W, 30d19'41.96\"N)\n",
      "Band 1 Block=2394x1 Type=Byte, ColorInterp=Red\n",
      "  Mask Flags: PER_DATASET ALPHA \n",
      "Band 2 Block=2394x1 Type=Byte, ColorInterp=Green\n",
      "  Mask Flags: PER_DATASET ALPHA \n",
      "Band 3 Block=2394x1 Type=Byte, ColorInterp=Blue\n",
      "  Mask Flags: PER_DATASET ALPHA \n",
      "Band 4 Block=2394x1 Type=Byte, ColorInterp=Alpha\n"
     ]
    }
   ],
   "source": [
    "# Get the original CRS of the TIFF file using gdalinfo with the -proj4 option\n",
    "!gdalinfo -proj4 ./data/doqq.tif"
   ]
  },
  {
   "cell_type": "code",
   "execution_count": 37,
   "metadata": {},
   "outputs": [
    {
     "name": "stdout",
     "output_type": "stream",
     "text": [
      "Using band 4 of destination image as alpha.\n",
      "Processing ./data/doqq.tif [1/1] : 0Using band 4 of source image as alpha.\n",
      "...10...20...30...40...50...60...70...80...90...100 - done.\n"
     ]
    }
   ],
   "source": [
    "# Reproject the 'doqq.tif' raster file to EPSG:4326 (WGS 84) coordinate system and save it as 'reprojected_doqq.tif'\n",
    "!gdalwarp -t_srs EPSG:4326 ./data/doqq.tif ./out/reprojected_doqq.tif"
   ]
  },
  {
   "cell_type": "code",
   "execution_count": 38,
   "metadata": {},
   "outputs": [
    {
     "name": "stdout",
     "output_type": "stream",
     "text": [
      "Driver: GTiff/GeoTIFF\n",
      "Files: ./out/reprojected_doqq.tif\n",
      "Size is 2586, 2197\n",
      "Coordinate System is:\n",
      "GEOGCRS[\"WGS 84\",\n",
      "    ENSEMBLE[\"World Geodetic System 1984 ensemble\",\n",
      "        MEMBER[\"World Geodetic System 1984 (Transit)\"],\n",
      "        MEMBER[\"World Geodetic System 1984 (G730)\"],\n",
      "        MEMBER[\"World Geodetic System 1984 (G873)\"],\n",
      "        MEMBER[\"World Geodetic System 1984 (G1150)\"],\n",
      "        MEMBER[\"World Geodetic System 1984 (G1674)\"],\n",
      "        MEMBER[\"World Geodetic System 1984 (G1762)\"],\n",
      "        MEMBER[\"World Geodetic System 1984 (G2139)\"],\n",
      "        ELLIPSOID[\"WGS 84\",6378137,298.257223563,\n",
      "            LENGTHUNIT[\"metre\",1]],\n",
      "        ENSEMBLEACCURACY[2.0]],\n",
      "    PRIMEM[\"Greenwich\",0,\n",
      "        ANGLEUNIT[\"degree\",0.0174532925199433]],\n",
      "    CS[ellipsoidal,2],\n",
      "        AXIS[\"geodetic latitude (Lat)\",north,\n",
      "            ORDER[1],\n",
      "            ANGLEUNIT[\"degree\",0.0174532925199433]],\n",
      "        AXIS[\"geodetic longitude (Lon)\",east,\n",
      "            ORDER[2],\n",
      "            ANGLEUNIT[\"degree\",0.0174532925199433]],\n",
      "    USAGE[\n",
      "        SCOPE[\"Horizontal component of 3D system.\"],\n",
      "        AREA[\"World.\"],\n",
      "        BBOX[-90,-180,90,180]],\n",
      "    ID[\"EPSG\",4326]]\n",
      "Data axis to CRS axis mapping: 2,1\n",
      "Origin = (-97.731842805855663,30.333663909214692)\n",
      "Pixel Size = (0.000004867560687,-0.000004867560687)\n",
      "Metadata:\n",
      "  AREA_OR_POINT=Area\n",
      "Image Structure Metadata:\n",
      "  INTERLEAVE=PIXEL\n",
      "Corner Coordinates:\n",
      "Upper Left  ( -97.7318428,  30.3336639) ( 97d43'54.63\"W, 30d20' 1.19\"N)\n",
      "Lower Left  ( -97.7318428,  30.3229699) ( 97d43'54.63\"W, 30d19'22.69\"N)\n",
      "Upper Right ( -97.7192553,  30.3336639) ( 97d43' 9.32\"W, 30d20' 1.19\"N)\n",
      "Lower Right ( -97.7192553,  30.3229699) ( 97d43' 9.32\"W, 30d19'22.69\"N)\n",
      "Center      ( -97.7255490,  30.3283169) ( 97d43'31.98\"W, 30d19'41.94\"N)\n",
      "Band 1 Block=2586x1 Type=Byte, ColorInterp=Red\n",
      "  Mask Flags: PER_DATASET ALPHA \n",
      "Band 2 Block=2586x1 Type=Byte, ColorInterp=Green\n",
      "  Mask Flags: PER_DATASET ALPHA \n",
      "Band 3 Block=2586x1 Type=Byte, ColorInterp=Blue\n",
      "  Mask Flags: PER_DATASET ALPHA \n",
      "Band 4 Block=2586x1 Type=Byte, ColorInterp=Alpha\n"
     ]
    }
   ],
   "source": [
    "!gdalinfo ./out/reprojected_doqq.tif  # Display summary information about the 'reprojected_doqq' raster    "
   ]
  },
  {
   "cell_type": "markdown",
   "metadata": {},
   "source": [
    "## Querying Data\n",
    "\n",
    "### Query data using SQL with GDAL\n",
    "\n",
    "GDAL/OGR's SQL dialect provides a powerful way to query and manipulate geospatial datasets. By using SQL commands, users can perform complex queries, filter data, and create subsets of larger datasets. This functionality is particularly useful for workflows that require specific data extraction or analysis.\n",
    "\n",
    "### Key Features of GDAL/OGR's SQL Dialect\n",
    "\n",
    "1. **Subsetting Data**: SQL queries can be used to select specific features or attributes from a dataset, allowing users to create subsets of data that meet certain criteria.\n",
    "2. **Filtering**: Users can apply filters to datasets to extract only the relevant information, such as selecting features within a certain geographic area or with specific attribute values.\n",
    "3. **Joining Datasets**: SQL can be used to join multiple datasets based on common attributes, enabling more complex data analysis and integration.\n",
    "4. **Aggregation**: SQL queries can perform aggregation operations, such as counting features, calculating averages, or summarizing data based on specific attributes.\n",
    "5. **Creating New Datasets**: The results of SQL queries can be saved as new datasets, making it easy to generate new files based on the query results.\n",
    "\n",
    "By leveraging GDAL/OGR's SQL capabilities, users can streamline their geospatial data processing workflows, making it easier to manage, analyze, and visualize large and complex datasets."
   ]
  },
  {
   "cell_type": "markdown",
   "metadata": {},
   "source": [
    "### `COUNT()`"
   ]
  },
  {
   "cell_type": "code",
   "execution_count": 39,
   "metadata": {},
   "outputs": [
    {
     "name": "stdout",
     "output_type": "stream",
     "text": [
      "INFO: Open of `./out/reprojected_pools.shp'\n",
      "      using driver `ESRI Shapefile' successful.\n",
      "\n",
      "Layer name: reprojected_pools\n",
      "Geometry: None\n",
      "Feature Count: 1\n",
      "Layer SRS WKT:\n",
      "(unknown)\n",
      "COUNT_*: Integer (0.0)\n",
      "OGRFeature(reprojected_pools):0\n",
      "  COUNT_* (Integer) = 51073\n",
      "\n"
     ]
    }
   ],
   "source": [
    "# Display the total count of features in the 'reprojected_pools' shapefile\n",
    "!ogrinfo ./out/reprojected_pools.shp -sql \"SELECT COUNT(*) FROM reprojected_pools\""
   ]
  },
  {
   "cell_type": "markdown",
   "metadata": {},
   "source": [
    "### `WHERE` clauses"
   ]
  },
  {
   "cell_type": "code",
   "execution_count": 40,
   "metadata": {},
   "outputs": [
    {
     "name": "stdout",
     "output_type": "stream",
     "text": [
      "\n",
      "Layer name: reprojected_pools\n",
      "OGRFeature(reprojected_pools):1\n",
      "  POOLS_2013 (Integer) = 2\n",
      "  CREATED_BY (String) = AeroMetric\n",
      "  CREATED_DA (Date) = 2013/10/01\n",
      "  MODIFIED_B (String) = (null)\n",
      "  MODIFIED_D (Date) = (null)\n",
      "  SOURCE (String) = LiDAR 2012\n",
      "  FEATURE (String) = Above ground\n",
      "  ORIGIN_FEA (String) = Pools_2013\n",
      "  Shape_Leng (Real) = 44.08991859810\n",
      "  Shape_Area (Real) = 154.55091064300\n",
      "  POLYGON Z ((-97.5899473554666 30.0647705839438 0,-97.5899475340168 30.0647685692746 0,-97.5899479546204 30.0647665823519 0,-97.5899486100564 30.0647646436488 0,-97.589949496202 30.0647627759048 0,-97.5899506017283 30.0647609995047 0,-97.5899519144365 30.0647593320641 0,-97.5899534198299 30.0647577941749 0,-97.5899551026197 30.0647564009112 0,-97.589956943694 30.0647551683649 0,-97.5899589218067 30.0647541098324 0,-97.5899610173072 30.0647532380935 0,-97.5899632056449 30.0647525603228 0,-97.5899654628543 30.0647520853571 0,-97.5899677650559 30.0647518190101 0,-97.5899700875543 30.0647517624021 0,-97.5899724037038 30.0647519185369 0,-97.5899746880093 30.0647522832918 0,-97.589976915869 30.064752854489 0,-97.5899790641091 30.0647536242051 0,-97.5899811063566 30.0647545858235 0,-97.5899830233308 30.064755727929 0,-97.5899847913583 30.064757037912 0,-97.5899863931559 30.0647585008247 0,-97.5899878092127 30.0647601022216 0,-97.5899890271104 30.0647618228586 0,-97.589990029312 30.0647636455822 0,-97.5899908085176 30.064765549058 0,-97.5899913545597 30.0647675127148 0,-97.5899916607469 30.0647695160566 0,-97.5899917249134 30.0647715351084 0,-97.5899915463641 30.0647735497777 0,-97.5899911270254 30.0647755367276 0,-97.5899904703261 30.0647774754038 0,-97.5899895841812 30.0647793431481 0,-97.5899884799116 30.0647811198506 0,-97.5899871668955 30.0647827870099 0,-97.5899856608703 30.0647843248859 0,-97.5899839790284 30.0647857181704 0,-97.5899821379461 30.0647869509919 0,-97.5899801585768 30.0647880092229 0,-97.5899780643319 30.064788881264 0,-97.5899758760013 30.0647895587601 0,-97.589973617527 30.0647900336988 0,-97.5899713153246 30.0647903000459 0,-97.5899689931335 30.0647903569356 0,-97.5899666779389 30.0647902005463 0,-97.5899643923685 30.0647898357641 0,-97.589962164824 30.0647892645734 0,-97.5899600175312 30.0647884948774 0,-97.5899579740193 30.0647875332315 0,-97.5899560583009 30.0647863914277 0,-97.589954289333 30.0647850811491 0,-97.5899526884835 30.0647836182563 0,-97.5899512711629 30.0647820168319 0,-97.589950054553 30.064780295397 0,-97.5899490510646 30.0647784734706 0,-97.5899482731238 30.0647765700217 0,-97.5899477270747 30.0647746066395 0,-97.5899474196321 30.0647726029956 0,-97.5899473554666 30.0647705839438 0))\n",
      "\n"
     ]
    }
   ],
   "source": [
    "# Display detailed information about the feature with FID (Feature ID) 1 in the 'reprojected_pools' shapefile\n",
    "!ogrinfo -q ./out/reprojected_pools.shp -sql \"SELECT * FROM reprojected_pools WHERE fid = 1\"\n",
    "\n"
   ]
  },
  {
   "cell_type": "markdown",
   "metadata": {},
   "source": [
    "### Combining "
   ]
  },
  {
   "cell_type": "code",
   "execution_count": 41,
   "metadata": {},
   "outputs": [
    {
     "name": "stdout",
     "output_type": "stream",
     "text": [
      "\n",
      "Layer name: reprojected_pools\n",
      "OGRFeature(reprojected_pools):0\n",
      "  COUNT_* (Integer) = 21550\n",
      "\n"
     ]
    }
   ],
   "source": [
    "# Display the count of features in the 'reprojected_pools' shapefile where the 'FEATURE' attribute is 'Above ground'\n",
    "!ogrinfo -q ./out/reprojected_pools.shp -sql \"SELECT COUNT(*) FROM reprojected_pools WHERE FEATURE = 'Above ground'\""
   ]
  },
  {
   "cell_type": "markdown",
   "metadata": {},
   "source": [
    "### Saving query results to a new file\n",
    "\n",
    "Create new files based on SQL queries"
   ]
  },
  {
   "cell_type": "code",
   "execution_count": 42,
   "metadata": {},
   "outputs": [
    {
     "name": "stdout",
     "output_type": "stream",
     "text": [
      "Warning 1: Value 329584619.333000004 of field SHAPE_AREA of feature 0 not successfully written. Possibly due to too larger number with respect to field width\n",
      "Warning 1: Value 269612790.022000015 of field SHAPE_AREA of feature 1 not successfully written. Possibly due to too larger number with respect to field width\n",
      "Warning 1: Value 353749197.81400001 of field SHAPE_AREA of feature 2 not successfully written. Possibly due to too larger number with respect to field width\n",
      "Warning 1: Value 238730360.125 of field SHAPE_AREA of feature 3 not successfully written. Possibly due to too larger number with respect to field width\n",
      "Warning 1: Value 87143416 of field SHAPE_AREA of feature 4 not successfully written. Possibly due to too larger number with respect to field width\n",
      "Warning 1: Value 656685609.498999953 of field SHAPE_AREA of feature 5 not successfully written. Possibly due to too larger number with respect to field width\n",
      "Warning 1: Value 47787673.75 of field SHAPE_AREA of feature 6 not successfully written. Possibly due to too larger number with respect to field width\n",
      "Warning 1: Value 195355642.75 of field SHAPE_AREA of feature 7 not successfully written. Possibly due to too larger number with respect to field width\n",
      "Warning 1: Value 334557136.281000018 of field SHAPE_AREA of feature 8 not successfully written. Possibly due to too larger number with respect to field width\n",
      "Warning 1: Value 684111433.577999949 of field SHAPE_AREA of feature 9 not successfully written. Possibly due to too larger number with respect to field width\n",
      "Warning 1: Value 380265109.787999988 of field SHAPE_AREA of feature 10 not successfully written. Possibly due to too larger number with respect to field width\n",
      "Warning 1: Value 526009199.491999984 of field SHAPE_AREA of feature 11 not successfully written. Possibly due to too larger number with respect to field width\n",
      "Warning 1: Value 566839271.097000003 of field SHAPE_AREA of feature 12 not successfully written. Possibly due to too larger number with respect to field width\n",
      "Warning 1: Value 72448926.625 of field SHAPE_AREA of feature 14 not successfully written. Possibly due to too larger number with respect to field width\n",
      "Warning 1: Value 1013479301.20000005 of field SHAPE_AREA of feature 15 not successfully written. Possibly due to too larger number with respect to field width\n",
      "Warning 1: Value 559018073.273000002 of field SHAPE_AREA of feature 16 not successfully written. Possibly due to too larger number with respect to field width\n",
      "Warning 1: Value 215176095.367000014 of field SHAPE_AREA of feature 17 not successfully written. Possibly due to too larger number with respect to field width\n",
      "Warning 1: Value 215101376.620000005 of field SHAPE_AREA of feature 18 not successfully written. Possibly due to too larger number with respect to field width\n",
      "Warning 1: Value 635312750.559999943 of field SHAPE_AREA of feature 19 not successfully written. Possibly due to too larger number with respect to field width\n",
      "Warning 1: Value 171330490.250999987 of field SHAPE_AREA of feature 20 not successfully written. Possibly due to too larger number with respect to field width\n",
      "Warning 1: Value 147029179.602999985 of field SHAPE_AREA of feature 21 not successfully written. Possibly due to too larger number with respect to field width\n",
      "Warning 1: Value 287711714.411000013 of field SHAPE_AREA of feature 22 not successfully written. Possibly due to too larger number with respect to field width\n",
      "Warning 1: Value 573953734.641000032 of field SHAPE_AREA of feature 23 not successfully written. Possibly due to too larger number with respect to field width\n",
      "Warning 1: Value 610414912.784000039 of field SHAPE_AREA of feature 24 not successfully written. Possibly due to too larger number with respect to field width\n",
      "Warning 1: Value 245172180.893000007 of field SHAPE_AREA of feature 25 not successfully written. Possibly due to too larger number with respect to field width\n",
      "Warning 1: Value 37731244.625 of field SHAPE_AREA of feature 26 not successfully written. Possibly due to too larger number with respect to field width\n",
      "Warning 1: Value 101042453 of field SHAPE_AREA of feature 27 not successfully written. Possibly due to too larger number with respect to field width\n",
      "Warning 1: Value 142577883.451999992 of field SHAPE_AREA of feature 28 not successfully written. Possibly due to too larger number with respect to field width\n",
      "Warning 1: Value 382004702.305999994 of field SHAPE_AREA of feature 29 not successfully written. Possibly due to too larger number with respect to field width\n",
      "Warning 1: Value 273563925.191999972 of field SHAPE_AREA of feature 30 not successfully written. Possibly due to too larger number with respect to field width\n",
      "Warning 1: Value 366223571.74000001 of field SHAPE_AREA of feature 31 not successfully written. Possibly due to too larger number with respect to field width\n",
      "Warning 1: Value 356096570.838999987 of field SHAPE_AREA of feature 32 not successfully written. Possibly due to too larger number with respect to field width\n",
      "Warning 1: Value 143564619.240999997 of field SHAPE_AREA of feature 33 not successfully written. Possibly due to too larger number with respect to field width\n",
      "Warning 1: Value 369136960.096000016 of field SHAPE_AREA of feature 34 not successfully written. Possibly due to too larger number with respect to field width\n",
      "Warning 1: Value 338340525.226999998 of field SHAPE_AREA of feature 35 not successfully written. Possibly due to too larger number with respect to field width\n",
      "Warning 1: Value 479258953.69599998 of field SHAPE_AREA of feature 36 not successfully written. Possibly due to too larger number with respect to field width\n",
      "Warning 1: Value 1320054207.23000002 of field SHAPE_AREA of feature 37 not successfully written. Possibly due to too larger number with respect to field width\n",
      "Warning 1: Value 660882023.442999959 of field SHAPE_AREA of feature 38 not successfully written. Possibly due to too larger number with respect to field width\n",
      "Warning 1: Value 295309740.157000005 of field SHAPE_AREA of feature 39 not successfully written. Possibly due to too larger number with respect to field width\n",
      "Warning 1: Value 312993510.277999997 of field SHAPE_AREA of feature 40 not successfully written. Possibly due to too larger number with respect to field width\n",
      "Warning 1: Value 55484321.1367999986 of field SHAPE_AREA of feature 41 not successfully written. Possibly due to too larger number with respect to field width\n",
      "Warning 1: Value 47568591.9536999986 of field SHAPE_AREA of feature 42 not successfully written. Possibly due to too larger number with respect to field width\n"
     ]
    }
   ],
   "source": [
    "# Select zip codes for Austin and save to a new shapefile\n",
    "!ogr2ogr ./out/austin_zips.shp ./data/zipcodes/zipcodes.shp -sql \"SELECT * FROM zipcodes WHERE name = 'Austin'\""
   ]
  },
  {
   "cell_type": "markdown",
   "metadata": {},
   "source": [
    "### Visualize the Query Result, with 'leafmap'"
   ]
  },
  {
   "cell_type": "code",
   "execution_count": 44,
   "metadata": {},
   "outputs": [
    {
     "data": {
      "application/vnd.jupyter.widget-view+json": {
       "model_id": "e1ef576c35c540c4bea417b4af4a9c0c",
       "version_major": 2,
       "version_minor": 0
      },
      "text/plain": [
       "Map(center=[30.300047674045484, -97.76929006144256], controls=(ZoomControl(options=['position', 'zoom_in_text'…"
      ]
     },
     "metadata": {},
     "output_type": "display_data"
    }
   ],
   "source": [
    "# Load the original shapefile using geopandas\n",
    "original_gdf = gpd.read_file('./data/zipcodes/zipcodes.shp')\n",
    "\n",
    "# Load the query result shapefile using geopandas\n",
    "austin_zips_gdf = gpd.read_file('./out/austin_zips.shp')\n",
    "\n",
    "# Create a map centered around the data\n",
    "austin_zip_map = leafmap.Map(center=[austin_zips_gdf.geometry.centroid.y.mean(), austin_zips_gdf.geometry.centroid.x.mean()], zoom=10)\n",
    "\n",
    "# Add the original shapefile layer to the map in grey\n",
    "austin_zip_map.add_gdf(original_gdf, layer_name=\"Original Zipcodes\", style={\"color\": \"grey\", \"weight\": 1})\n",
    "\n",
    "# Add the query result shapefile layer to the map in red\n",
    "austin_zip_map.add_gdf(austin_zips_gdf, layer_name=\"Austin Zipcodes\", style={\"color\": \"red\", \"weight\": 2})\n",
    "\n",
    "# Display the map\n",
    "austin_zip_map"
   ]
  },
  {
   "cell_type": "code",
   "execution_count": 45,
   "metadata": {},
   "outputs": [],
   "source": [
    "# Select zip codes with SHAPE_AREA less than 10,000,000 and save to a new shapefile\n",
    "!ogr2ogr ./out/under_10mil.shp ./data/zipcodes/zipcodes.shp -sql \"SELECT * FROM zipcodes WHERE SHAPE_AREA < 10000000\""
   ]
  },
  {
   "cell_type": "code",
   "execution_count": 46,
   "metadata": {},
   "outputs": [
    {
     "data": {
      "application/vnd.jupyter.widget-view+json": {
       "model_id": "5f5c5cd3fb5d4178b0018233ae7aa007",
       "version_major": 2,
       "version_minor": 0
      },
      "text/plain": [
       "Map(center=[30.285174021939362, -97.73320815167246], controls=(ZoomControl(options=['position', 'zoom_in_text'…"
      ]
     },
     "metadata": {},
     "output_type": "display_data"
    }
   ],
   "source": [
    "# Load the shapefile using geopandas\n",
    "under_10mil_gdf = gpd.read_file('./out/under_10mil.shp')\n",
    "\n",
    "# Create a map centered around the data\n",
    "under_10mil_map = leafmap.Map(center=[under_10mil_gdf.geometry.centroid.y.mean(), under_10mil_gdf.geometry.centroid.x.mean()], zoom=10)\n",
    "\n",
    "# Add the original zipcodes shapefile layer to the map in grey\n",
    "under_10mil_map.add_gdf(original_gdf, layer_name=\"Original Zipcodes\", style={\"color\": \"grey\", \"weight\": 1})\n",
    "\n",
    "# Add the under_10mil shapefile layer to the map in red\n",
    "under_10mil_map.add_gdf(under_10mil_gdf, layer_name=\"Under 10 Million Shape Area\", style={\"color\": \"red\", \"weight\": 2})\n",
    "\n",
    "# Display the map\n",
    "under_10mil_map"
   ]
  },
  {
   "cell_type": "code",
   "execution_count": 97,
   "metadata": {},
   "outputs": [],
   "source": [
    "!ogr2ogr -f geojson ./out/78756.geojson ./data/zipcodes/zipcodes.shp -sql \"SELECT * FROM zipcodes WHERE ZIPCODE = '78756'\""
   ]
  },
  {
   "cell_type": "code",
   "execution_count": null,
   "metadata": {},
   "outputs": [],
   "source": [
    "# Load the geojson file using geopandas\n",
    "gdf_78756 = gpd.read_file('./out/78756.geojson')\n",
    "\n",
    "# Create a map centered around the data\n",
    "map_78756 = leafmap.Map(center=[gdf_78756.geometry.centroid.y.mean(), gdf_78756.geometry.centroid.x.mean()], zoom=12)\n",
    "\n",
    "# Add the geojson layer to the map\n",
    "map_78756.add_gdf(gdf_78756, layer_name=\"78756\")\n",
    "\n",
    "# Display the map\n",
    "map_78756"
   ]
  },
  {
   "cell_type": "markdown",
   "metadata": {},
   "source": [
    "## Clipping to create new data\n",
    "\n",
    "Clip data using GDAL"
   ]
  },
  {
   "cell_type": "code",
   "execution_count": 103,
   "metadata": {},
   "outputs": [],
   "source": [
    "# Use ogr2ogr to clip the 'reprojected_pools.shp' shapefile using the '78756.geojson' file as the clipping boundary\n",
    "# The output will be saved as '78756_pools.shp' and will be all of the pools that fall within the 78756 zip code boundary\n",
    "!ogr2ogr -clipsrc ./out/78756.geojson 78756_pools.shp ./out/reprojected_pools.shp\n"
   ]
  },
  {
   "cell_type": "code",
   "execution_count": null,
   "metadata": {},
   "outputs": [],
   "source": [
    "# Load the shapefile using geopandas\n",
    "pools_gdf = gpd.read_file('78756_pools.shp')\n",
    "\n",
    "# Create a map centered around the data\n",
    "pools_map = leafmap.Map(center=[pools_gdf.geometry.centroid.y.mean(), pools_gdf.geometry.centroid.x.mean()], zoom=14)\n",
    "\n",
    "# Add the shapefile layer to the map with increased outline width\n",
    "pools_map.add_gdf(pools_gdf, layer_name=\"78756 Pools\", style={\"weight\": 5})  # Increase the weight to 5\n",
    "\n",
    "# Display the map\n",
    "pools_map"
   ]
  },
  {
   "cell_type": "code",
   "execution_count": null,
   "metadata": {},
   "outputs": [],
   "source": [
    "# Use gdalwarp to clip the 'doqq.tif' raster file using the '78756.geojson' file as the clipping boundary\n",
    "# -cutline: specifies the vector file to use for clipping\n",
    "# -dstalpha: adds an alpha band to the output image to handle transparency\n",
    "# The output will be saved as '78756_doqq.tif'\n",
    "\n",
    "!gdalwarp -cutline ./out/78756.geojson -dstalpha ./data/doqq.tif ./out/78756_doqq.tif"
   ]
  },
  {
   "cell_type": "code",
   "execution_count": null,
   "metadata": {},
   "outputs": [],
   "source": [
    "# Create a map centered around the approximate location of the raster data\n",
    "doqq_map_center = [30.2672, -97.7431]  # Coordinates for Austin, TX\n",
    "doqq_map = leafmap.Map(center=doqq_map_center, zoom=10)\n",
    "\n",
    "# Define the path to the 78756_doqq.tif file\n",
    "doqq_tif_path = './out/78756_doqq.tif'\n",
    "\n",
    "# Add the raster layer to the map\n",
    "doqq_map.add_raster(doqq_tif_path, layer_name=\"78756 DOQQ\")\n",
    "\n",
    "# Display the map\n",
    "doqq_map"
   ]
  },
  {
   "cell_type": "code",
   "execution_count": null,
   "metadata": {},
   "outputs": [],
   "source": [
    "# Use gdal_translate to clip a portion of the DEM file\n",
    "# -srcwin: specifies the window of pixels to extract (xoff, yoff, xsize, ysize)\n",
    "# -of: specifies the output format (USGSDEM in this case)\n",
    "# The output will be saved as 'clipped_dem.dem'\n",
    "\n",
    "!gdal_translate -srcwin 0 0 1000 1000 -of USGSDEM ./data/dem10m/dem10m.dem ./out/clipped_dem.dem\n"
   ]
  },
  {
   "cell_type": "code",
   "execution_count": null,
   "metadata": {},
   "outputs": [],
   "source": [
    "# Create a map centered around the approximate location of the raster data\n",
    "clipped_dem_map_center = [30.2672, -97.7431]  # Coordinates for Austin, TX\n",
    "clipped_dem_map = leafmap.Map(center=clipped_dem_map_center, zoom=10)\n",
    "\n",
    "# Define the path to the clipped DEM file\n",
    "clipped_dem_path = './out/clipped_dem.dem'\n",
    "\n",
    "# Add the raster layer to the map\n",
    "clipped_dem_map.add_raster(clipped_dem_path, layer_name=\"Clipped DEM\")\n",
    "\n",
    "# Display the map\n",
    "clipped_dem_map"
   ]
  },
  {
   "cell_type": "code",
   "execution_count": null,
   "metadata": {},
   "outputs": [],
   "source": [
    "# Use gdaldem to generate a hillshade from the DEM file\n",
    "# -of: specifies the output format (PNG in this case)\n",
    "# The output will be saved as 'hillshade.png'\n",
    "\n",
    "!gdaldem hillshade -of png ./out/clipped_dem.dem ./out/hillshade.png"
   ]
  },
  {
   "cell_type": "code",
   "execution_count": null,
   "metadata": {},
   "outputs": [],
   "source": [
    "# Create a map centered around the approximate location of the hillshade data\n",
    "hillshade_map_center = [30.2672, -97.7431]  # Coordinates for Austin, TX\n",
    "hillshade_map = leafmap.Map(center=hillshade_map_center, zoom=10)\n",
    "\n",
    "# Define the path to the hillshade PNG file\n",
    "hillshade_path = './out/hillshade.png'\n",
    "\n",
    "# Add the hillshade raster layer to the map\n",
    "hillshade_map.add_raster(hillshade_path, layer_name=\"Hillshade\")\n",
    "\n",
    "# Display the map\n",
    "hillshade_map"
   ]
  },
  {
   "cell_type": "code",
   "execution_count": null,
   "metadata": {},
   "outputs": [],
   "source": [
    "import math\n",
    "\n",
    "# Calculate the latitude of the center of the DEM\n",
    "latitude = 30.2672  # Example latitude for Austin, TX\n",
    "\n",
    "# Calculate the z-factor using the formula: z_factor = 1 / (111320 * cos(latitude * pi / 180))\n",
    "z_factor = 1 / (111320 * math.cos(latitude * math.pi / 180))\n",
    "\n",
    "# Use gdaldem to generate a hillshade from the DEM file with the calculated z-factor\n",
    "# -of: specifies the output format (PNG in this case)\n",
    "# The output will be saved as 'hillshade_with_zfactor.png'\n",
    "\n",
    "!gdaldem hillshade -z {z_factor} -of png ./out/clipped_dem.dem ./out/hillshade_with_zfactor.png"
   ]
  },
  {
   "cell_type": "code",
   "execution_count": null,
   "metadata": {},
   "outputs": [],
   "source": [
    "# Create a map centered around the approximate location of the hillshade data\n",
    "hillshade_zfactor_map_center = [30.2672, -97.7431]  # Coordinates for Austin, TX\n",
    "hillshade_zfactor_map = leafmap.Map(center=hillshade_zfactor_map_center, zoom=10)\n",
    "\n",
    "# Define the path to the hillshade PNG file with z-factor\n",
    "hillshade_with_zfactor_path = './out/hillshade_with_zfactor.png'\n",
    "\n",
    "# Add the hillshade raster layer to the map\n",
    "hillshade_zfactor_map.add_raster(hillshade_with_zfactor_path, layer_name=\"Hillshade with Z-Factor\")\n",
    "\n",
    "# Display the map\n",
    "hillshade_zfactor_map"
   ]
  },
  {
   "cell_type": "code",
   "execution_count": null,
   "metadata": {},
   "outputs": [],
   "source": [
    "# Define the path to the DEM file and the color ramp file\n",
    "dem_file = './out/clipped_dem.dem'\n",
    "color_ramp_file = './data/colorramp.txt'\n",
    "output_color_relief = './out/colorrelief.tif'\n",
    "\n",
    "# Use gdaldem to generate a color relief from the DEM file using the color ramp file\n",
    "!gdaldem color-relief {dem_file} {color_ramp_file} {output_color_relief}"
   ]
  },
  {
   "cell_type": "code",
   "execution_count": null,
   "metadata": {},
   "outputs": [],
   "source": [
    "# Create a map centered around the approximate location of the color relief data\n",
    "color_relief_map_center = [30.2672, -97.7431]  # Coordinates for Austin, TX\n",
    "color_relief_map = leafmap.Map(center=color_relief_map_center, zoom=10)\n",
    "\n",
    "# Define the path to the color relief TIFF file\n",
    "color_relief_path = './out/colorrelief.tif'\n",
    "\n",
    "# Add the color relief raster layer to the map\n",
    "color_relief_map.add_raster(color_relief_path, layer_name=\"Color Relief\")\n",
    "\n",
    "# Display the map\n",
    "color_relief_map"
   ]
  },
  {
   "cell_type": "code",
   "execution_count": null,
   "metadata": {},
   "outputs": [],
   "source": [
    "# Create contour lines from a DEM\n",
    "# -a elev: specifies the attribute name for elevation values\n",
    "# -i 20: specifies the contour interval (20 units)\n",
    "# clipped_dem.dem: input DEM file\n",
    "# contours.shp: output shapefile for contours\n",
    "\n",
    "!gdal_contour -a elev -i 20 ./out/clipped_dem.dem ./out/contours.shp"
   ]
  },
  {
   "cell_type": "code",
   "execution_count": null,
   "metadata": {},
   "outputs": [],
   "source": [
    "# Create a map centered around the approximate location of the color relief data\n",
    "contour_map_center = [30.2672, -97.7431]  # Coordinates for Austin, TX\n",
    "contour_map = leafmap.Map(center=contour_map_center, zoom=10)\n",
    "\n",
    "# Define the path to the color relief TIFF file\n",
    "color_relief_path = './out/colorrelief.tif'\n",
    "\n",
    "# Define the path to the contours shapefile\n",
    "contours_path = './out/contours.shp'\n",
    "\n",
    "# Add the color relief raster layer to the map\n",
    "contour_map.add_raster(color_relief_path, layer_name=\"Color Relief\")\n",
    "\n",
    "# Add the contours layer to the map with specified style\n",
    "contour_map.add_vector(contours_path, layer_name=\"Contours\", style={\"color\": \"white\", \"weight\": 0.5})\n",
    "\n",
    "# Display the map\n",
    "contour_map"
   ]
  }
 ],
 "metadata": {
  "kernelspec": {
   "display_name": "Python 3",
   "language": "python",
   "name": "python3"
  },
  "language_info": {
   "codemirror_mode": {
    "name": "ipython",
    "version": 3
   },
   "file_extension": ".py",
   "mimetype": "text/x-python",
   "name": "python",
   "nbconvert_exporter": "python",
   "pygments_lexer": "ipython3",
   "version": "3.11.8"
  }
 },
 "nbformat": 4,
 "nbformat_minor": 2
}
