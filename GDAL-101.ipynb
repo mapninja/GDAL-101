{
 "cells": [
  {
   "cell_type": "markdown",
   "metadata": {},
   "source": [
    "# GDAL 101\n",
    "\n",
    "<a target=\"_blank\" href=\"https://colab.research.google.com/github/mapninja/GDAL-101/blob/main/GDAL-101.ipynb\">\n",
    "  <img src=\"https://colab.research.google.com/assets/colab-badge.svg\" alt=\"Open In Colab\"/>\n",
    "</a>"
   ]
  },
  {
   "cell_type": "markdown",
   "metadata": {},
   "source": [
    "## Overview of steps:\n",
    "1. Verification: Verify GDAL installation.\n",
    "2. Download the data: Placeholder for data download.\n",
    "3. Check out the data in QGIS: Placeholder for QGIS.\n",
    "4. OGR for Vector Data: Use GDAL to inspect vector data.\n",
    "5. GDAL for Raster Data: Use GDAL to inspect raster data.\n",
    "6. Converting Data: Convert data formats using GDAL.\n",
    "7. Reprojecting Data: Reproject data using GDAL.\n",
    "8. Querying Data: Query data using SQL with GDAL.\n",
    "9. Clipping to create new data: Clip data using GDAL.\n",
    "10. Previewing Data: Use Folium to preview data."
   ]
  },
  {
   "cell_type": "markdown",
   "metadata": {},
   "source": [
    "## Installation\n",
    "\n",
    "Install necessary packages"
   ]
  },
  {
   "cell_type": "code",
   "execution_count": null,
   "metadata": {},
   "outputs": [],
   "source": [
    "!pip install gdal folium"
   ]
  },
  {
   "cell_type": "markdown",
   "metadata": {},
   "source": [
    "## Imports"
   ]
  },
  {
   "cell_type": "code",
   "execution_count": 4,
   "metadata": {},
   "outputs": [],
   "source": [
    "from osgeo import gdal, ogr                     # Import the gdal and ogr modules from the osgeo package\n",
    "import zipfile\n",
    "import os\n",
    "import folium\n",
    "import geopandas as gpd"
   ]
  },
  {
   "cell_type": "markdown",
   "metadata": {},
   "source": [
    "## Verification:\n",
    "\n",
    "Verify GDAL installation"
   ]
  },
  {
   "cell_type": "code",
   "execution_count": null,
   "metadata": {},
   "outputs": [],
   "source": [
    "gdal.UseExceptions()                            # Enable GDAL to use Python exceptions for error handling\n",
    "print(gdal.__version__)                         # Print the version of the GDAL library"
   ]
  },
  {
   "cell_type": "markdown",
   "metadata": {},
   "source": [
    "## Upload and Unzip the data in Colab\n",
    "\n",
    "This assumes you are working in [Colab](https://colab.research.google.com/). First, you will need to place the `GDAL_101_data.zip` file in the `./contents` folder on Colab. This is the folder that is visible by default, in your Files Panel, in Colab."
   ]
  },
  {
   "cell_type": "code",
   "execution_count": null,
   "metadata": {},
   "outputs": [],
   "source": [
    "# Define the path to the zip file and the extraction directory (in Colab, right-click and select Copy Path to get this location)\n",
    "zip_file_path = './GDAL_101_data.zip'\n",
    "extract_to_path = './data'\n",
    "\n",
    "# Unzip the file\n",
    "with zipfile.ZipFile(zip_file_path, 'r') as zip_ref:\n",
    "    zip_ref.extractall(extract_to_path)\n",
    "\n",
    "print(f\"Data extracted to {os.path.abspath(extract_to_path)}\")"
   ]
  },
  {
   "cell_type": "markdown",
   "metadata": {},
   "source": [
    "## Check out the data in Folium"
   ]
  },
  {
   "cell_type": "code",
   "execution_count": null,
   "metadata": {},
   "outputs": [],
   "source": [
    "\n",
    "\n",
    "# Load the shapefile using geopandas\n",
    "gdf = gpd.read_file(f\"{extract_to_path}/zipcodes/zipcodes.shp\")\n",
    "\n",
    "# Create a map centered around the data\n",
    "m = folium.Map(location=[gdf.geometry.centroid.y.mean(), gdf.geometry.centroid.x.mean()], zoom_start=9)\n",
    "\n",
    "# Add the shapefile layer to the map\n",
    "folium.GeoJson(gdf).add_to(m)\n",
    "\n",
    "# Display the map\n",
    "m"
   ]
  },
  {
   "cell_type": "markdown",
   "metadata": {},
   "source": [
    "## OGR for Vector Data\n",
    "\n",
    "Inspect vector data"
   ]
  },
  {
   "cell_type": "code",
   "execution_count": null,
   "metadata": {},
   "outputs": [],
   "source": [
    "!ogrinfo ./data/pools/pools.shp                        # Display information about the shapefile 'pools.shp'\n"
   ]
  },
  {
   "cell_type": "markdown",
   "metadata": {},
   "source": []
  },
  {
   "cell_type": "code",
   "execution_count": null,
   "metadata": {},
   "outputs": [],
   "source": [
    "!ogrinfo ./data/zipcodes/zipcodes.shp                  # Display information about the shapefile 'zipcodes.shp'"
   ]
  },
  {
   "cell_type": "markdown",
   "metadata": {},
   "source": []
  },
  {
   "cell_type": "code",
   "execution_count": null,
   "metadata": {},
   "outputs": [],
   "source": [
    "!ogrinfo -so ./data/zipcodes/zipcodes.shp zipcodes     # Display summary information about the 'zipcodes' layer in the 'zipcodes.shp' shapefile"
   ]
  },
  {
   "cell_type": "markdown",
   "metadata": {},
   "source": [
    "## GDAL for Raster Data\n",
    "\n",
    "Inspect raster data"
   ]
  },
  {
   "cell_type": "code",
   "execution_count": null,
   "metadata": {},
   "outputs": [],
   "source": [
    "!gdalinfo ./data/dem10m/dem10m.dem\n"
   ]
  },
  {
   "cell_type": "markdown",
   "metadata": {},
   "source": []
  },
  {
   "cell_type": "code",
   "execution_count": null,
   "metadata": {},
   "outputs": [],
   "source": [
    "!gdalinfo ./data/doqq.tif"
   ]
  },
  {
   "cell_type": "markdown",
   "metadata": {},
   "source": [
    "## Converting Data\n",
    "\n",
    "### Exporting original data into new formats"
   ]
  },
  {
   "cell_type": "code",
   "execution_count": null,
   "metadata": {},
   "outputs": [],
   "source": [
    "!ogr2ogr --formats\n",
    "!gdal_translate --formats"
   ]
  },
  {
   "cell_type": "markdown",
   "metadata": {},
   "source": [
    "### shapefile → geojson\n",
    "\n",
    "Convert shapefile to geojson"
   ]
  },
  {
   "cell_type": "code",
   "execution_count": null,
   "metadata": {},
   "outputs": [],
   "source": [
    "!ogr2ogr -f geojson ./out/zipcodes.geojson ./data/zipcodes/zipcodes.shp\n",
    "!ogrinfo -so ./out/zipcodes.geojson zipcodes"
   ]
  },
  {
   "cell_type": "markdown",
   "metadata": {},
   "source": [
    "### GeoTIFF → georeferenced PNG\n",
    "\n",
    "Convert GeoTIFF to georeferenced PNG"
   ]
  },
  {
   "cell_type": "code",
   "execution_count": null,
   "metadata": {},
   "outputs": [],
   "source": [
    "!gdal_translate -of png ./data/doqq.tif ./out/converted_doqq.png\n",
    "!gdalinfo ./out/converted_doqq.png"
   ]
  },
  {
   "cell_type": "markdown",
   "metadata": {},
   "source": [
    "## Reprojecting Data\n",
    "\n",
    "Reproject data using EPSG codes"
   ]
  },
  {
   "cell_type": "code",
   "execution_count": null,
   "metadata": {},
   "outputs": [],
   "source": [
    "!ogr2ogr -t_srs EPSG:4326 ./out/reprojected_pools.shp ./data/pools/pools.shp\n",
    "!gdalwarp -t_srs EPSG:4326 ./data/doqq.tif ./out/reprojected_doqq.tif"
   ]
  },
  {
   "cell_type": "markdown",
   "metadata": {},
   "source": [
    "## Querying Data\n",
    "\n",
    "Query data using SQL with GDAL"
   ]
  },
  {
   "cell_type": "code",
   "execution_count": 43,
   "metadata": {},
   "outputs": [
    {
     "name": "stdout",
     "output_type": "stream",
     "text": [
      "INFO: Open of `./data/pools/pools.shp'\n",
      "      using driver `ESRI Shapefile' successful.\n",
      "\n",
      "Layer name: pools\n",
      "Geometry: None\n",
      "Feature Count: 1\n",
      "Layer SRS WKT:\n",
      "(unknown)\n",
      "COUNT_*: Integer (0.0)\n",
      "OGRFeature(pools):0\n",
      "  COUNT_* (Integer) = 51073\n",
      "\n"
     ]
    }
   ],
   "source": [
    "# Display the total count of features in the 'pools' shapefile\n",
    "!ogrinfo ./data/pools/pools.shp -sql \"SELECT COUNT(*) FROM pools\"\n",
    "\n"
   ]
  },
  {
   "cell_type": "code",
   "execution_count": 44,
   "metadata": {},
   "outputs": [
    {
     "name": "stdout",
     "output_type": "stream",
     "text": [
      "\n",
      "Layer name: pools\n",
      "OGRFeature(pools):1\n",
      "  POOLS_2013 (Integer) = 2\n",
      "  CREATED_BY (String) = AeroMetric\n",
      "  CREATED_DA (Date) = 2013/10/01\n",
      "  MODIFIED_B (String) = (null)\n",
      "  MODIFIED_D (Date) = (null)\n",
      "  SOURCE (String) = LiDAR 2012\n",
      "  FEATURE (String) = Above ground\n",
      "  ORIGIN_FEA (String) = Pools_2013\n",
      "  Shape_Leng (Real) = 44.08991859810\n",
      "  Shape_Area (Real) = 154.55091064300\n",
      "  POLYGON Z ((3164378.2166 9997997.058 0,3164378.1782 9997996.3241 0,3164378.063 9997995.5984 0,3164377.8731 9997994.8884 0,3164377.6096 9997994.2024 0,3164377.2759 9997993.5479 0,3164376.8757 9997992.9314 0,3164376.4134 9997992.3605 0,3164375.8937 9997991.8408 0,3164375.3225 9997991.3783 0,3164374.7064 9997990.978 0,3164374.0515 9997990.6447 0,3164373.3655 9997990.3812 0,3164372.6559 9997990.1909 0,3164371.9302 9997990.0761 0,3164371.1962 9997990.0374 0,3164370.4623 9997990.0761 0,3164369.7366 9997990.1909 0,3164369.0269 9997990.3812 0,3164368.3406 9997990.6443 0,3164367.6861 9997990.978 0,3164367.0696 9997991.3783 0,3164366.4987 9997991.8408 0,3164365.979 9997992.3602 0,3164365.5168 9997992.9314 0,3164365.1162 9997993.5475 0,3164364.7829 9997994.2024 0,3164364.5194 9997994.8884 0,3164364.3291 9997995.5981 0,3164364.2143 9997996.3241 0,3164364.1759 9997997.0577 0,3164364.2143 9997997.7916 0,3164364.3291 9997998.5173 0,3164364.5194 9997999.2273 0,3164364.7829 9997999.9133 0,3164365.1162 9998000.5679 0,3164365.5165 9998001.1843 0,3164365.979 9998001.7552 0,3164366.4984 9998002.2749 0,3164367.0696 9998002.7375 0,3164367.6861 9998003.1377 0,3164368.3406 9998003.4711 0,3164369.0266 9998003.7345 0,3164369.7366 9998003.9248 0,3164370.4623 9998004.0396 0,3164371.1962 9998004.0784 0,3164371.9298 9998004.0396 0,3164372.6559 9998003.9248 0,3164373.3655 9998003.7345 0,3164374.0515 9998003.4714 0,3164374.7064 9998003.1377 0,3164375.3225 9998002.7375 0,3164375.8937 9998002.2749 0,3164376.4131 9998001.7555 0,3164376.8757 9998001.1843 0,3164377.2759 9998000.5679 0,3164377.6096 9997999.9133 0,3164377.8727 9997999.2273 0,3164378.063 9997998.5177 0,3164378.1782 9997997.7916 0,3164378.2166 9997997.058 0))\n",
      "\n"
     ]
    }
   ],
   "source": [
    "# Display detailed information about the feature with FID (Feature ID) 1 in the 'pools' shapefile\n",
    "!ogrinfo -q ./data/pools/pools.shp -sql \"SELECT * FROM pools WHERE fid = 1\"\n",
    "\n"
   ]
  },
  {
   "cell_type": "code",
   "execution_count": 45,
   "metadata": {},
   "outputs": [
    {
     "name": "stdout",
     "output_type": "stream",
     "text": [
      "\n",
      "Layer name: pools\n",
      "OGRFeature(pools):0\n",
      "  COUNT_* (Integer) = 21550\n",
      "\n"
     ]
    }
   ],
   "source": [
    "# Display the count of features in the 'pools' shapefile where the 'FEATURE' attribute is 'Above ground'\n",
    "!ogrinfo -q ./data/pools/pools.shp -sql \"SELECT COUNT(*) FROM pools WHERE FEATURE = 'Above ground'\""
   ]
  },
  {
   "cell_type": "markdown",
   "metadata": {},
   "source": [
    "### Saving query results to a new file\n",
    "\n",
    "Create new files based on SQL queries"
   ]
  },
  {
   "cell_type": "code",
   "execution_count": null,
   "metadata": {},
   "outputs": [],
   "source": [
    "!ogr2ogr ./out/austin_zips.shp ./data/zipcodes/zipcodes.shp -sql \"SELECT * FROM zipcodes WHERE name = 'Austin'\""
   ]
  },
  {
   "cell_type": "code",
   "execution_count": null,
   "metadata": {},
   "outputs": [],
   "source": [
    "!ogr2ogr ./out/under_10mil.shp ./data/zipcodes/zipcodes.shp -sql \"SELECT * FROM zipcodes WHERE SHAPE_AREA <10000000\""
   ]
  },
  {
   "cell_type": "code",
   "execution_count": null,
   "metadata": {},
   "outputs": [],
   "source": [
    "!ogr2ogr -f geojson ./out/78756.geojson ./data/zipcodes/zipcodes.shp -sql \"SELECT * FROM zipcodes WHERE ZIPCODE = '78756'\""
   ]
  },
  {
   "cell_type": "markdown",
   "metadata": {},
   "source": [
    "## Clipping to create new data\n",
    "\n",
    "Clip data using GDAL"
   ]
  },
  {
   "cell_type": "code",
   "execution_count": null,
   "metadata": {},
   "outputs": [],
   "source": [
    "!ogr2ogr -clipsrc 78756.geojson 78756_pools.shp reprojected_pools.shp\n",
    "!gdalwarp -cutline 78756.geojson doqq.tif 78756_doqq.tif\n",
    "!gdal_translate -srcwin 0 0 1000 1000 -of USGSDEM dem10m/dem10m.dem clipped_dem.dem"
   ]
  },
  {
   "cell_type": "markdown",
   "metadata": {},
   "source": [
    "## Previewing Data\n",
    "\n",
    "Use Folium to preview data"
   ]
  },
  {
   "cell_type": "code",
   "execution_count": null,
   "metadata": {},
   "outputs": [],
   "source": [
    "import folium\n",
    "import geopandas as gpd\n",
    "\n",
    "# Load the geojson file\n",
    "gdf = gpd.read_file('zipcodes.geojson')\n",
    "\n",
    "# Create a map centered around the data\n",
    "m = folium.Map(location=[gdf.geometry.centroid.y.mean(), gdf.geometry.centroid.x.mean()], zoom_start=12)\n",
    "\n",
    "# Add the geojson layer to the map\n",
    "folium.GeoJson('zipcodes.geojson').add_to(m)\n",
    "\n",
    "# Display the map\n",
    "m"
   ]
  }
 ],
 "metadata": {
  "kernelspec": {
   "display_name": "Python 3",
   "language": "python",
   "name": "python3"
  },
  "language_info": {
   "codemirror_mode": {
    "name": "ipython",
    "version": 3
   },
   "file_extension": ".py",
   "mimetype": "text/x-python",
   "name": "python",
   "nbconvert_exporter": "python",
   "pygments_lexer": "ipython3",
   "version": "3.11.8"
  }
 },
 "nbformat": 4,
 "nbformat_minor": 2
}
